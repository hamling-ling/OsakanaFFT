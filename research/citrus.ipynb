{
 "cells": [
  {
   "cell_type": "code",
   "execution_count": 6,
   "metadata": {
    "collapsed": true
   },
   "outputs": [],
   "source": [
    "import numpy as np\n",
    "import pandas as pd\n",
    "from matplotlib import pyplot as plt\n",
    "%matplotlib inline"
   ]
  },
  {
   "cell_type": "markdown",
   "metadata": {},
   "source": [
    "GR-Citrus analogread analysis\n",
    "\n",
    "N=1024 sampling 1024 time log\n",
    "[Sun Jul 03 17:15:45.534 2016] start\n",
    "[Sun Jul 03 17:16:30.870 2016] finished\n"
   ]
  },
  {
   "cell_type": "code",
   "execution_count": 49,
   "metadata": {
    "collapsed": false,
    "scrolled": true
   },
   "outputs": [
    {
     "name": "stdout",
     "output_type": "stream",
     "text": [
      "sampling interval for N=1024:  45.336000000000006\n",
      "sampling frequency :  23128.992412211042 Hz\n"
     ]
    }
   ],
   "source": [
    "si=(60+30.870-45.534)\n",
    "print(\"sampling interval for N=1024: \", si)\n",
    "freq=1/(si/1024/1024)\n",
    "print(\"sampling frequency : \", freq, \"Hz\")"
   ]
  },
  {
   "cell_type": "code",
   "execution_count": 12,
   "metadata": {
    "collapsed": false
   },
   "outputs": [
    {
     "data": {
      "text/plain": [
       "0.011068359375"
      ]
     },
     "execution_count": 12,
     "metadata": {},
     "output_type": "execute_result"
    }
   ],
   "source": [
    "0.0442734375/4\n"
   ]
  },
  {
   "cell_type": "code",
   "execution_count": 25,
   "metadata": {
    "collapsed": false
   },
   "outputs": [
    {
     "data": {
      "text/plain": [
       "[<matplotlib.lines.Line2D at 0x1d42a45c668>,\n",
       " <matplotlib.lines.Line2D at 0x1d42a45c7f0>]"
      ]
     },
     "execution_count": 25,
     "metadata": {},
     "output_type": "execute_result"
    },
    {
     "data": {
      "image/png": "[encoded data removed]",
      "text/plain": [
       "<matplotlib.figure.Figure at 0x1d42a4089b0>"
      ]
     },
     "metadata": {},
     "output_type": "display_data"
    }
   ],
   "source": [
    "data=np.loadtxt('citrus.dat', delimiter=',')\n",
    "plt.plot(data)"
   ]
  },
  {
   "cell_type": "code",
   "execution_count": 19,
   "metadata": {
    "collapsed": false
   },
   "outputs": [
    {
     "name": "stdout",
     "output_type": "stream",
     "text": [
      "76.0\n"
     ]
    }
   ],
   "source": [
    "k=np.log10(2**(1/12))\n",
    "notes=np.round(np.log10(670/27.5)/k)+21\n",
    "print(notes)"
   ]
  },
  {
   "cell_type": "code",
   "execution_count": 50,
   "metadata": {
    "collapsed": false
   },
   "outputs": [
    {
     "name": "stdout",
     "output_type": "stream",
     "text": [
      "4.3235778808593755e-05\n",
      "335.2027885827688\n"
     ]
    }
   ],
   "source": [
    "idx=69\n",
    "t_per_sample=si/1024/1024\n",
    "print(t_per_sample)\n",
    "print(1/(idx*t_per_sample))"
   ]
  },
  {
   "cell_type": "code",
   "execution_count": 43,
   "metadata": {
    "collapsed": false
   },
   "outputs": [
    {
     "name": "stdout",
     "output_type": "stream",
     "text": [
      "512\n",
      "85726557.0\n",
      "171453114.0\n"
     ]
    },
    {
     "data": {
      "text/plain": [
       "[<matplotlib.lines.Line2D at 0x1d42a59d048>]"
      ]
     },
     "execution_count": 43,
     "metadata": {},
     "output_type": "execute_result"
    },
    {
     "data": {
      "image/png": "[encoded data removed]",
      "text/plain": [
       "<matplotlib.figure.Figure at 0x1d42a4ac240>"
      ]
     },
     "metadata": {},
     "output_type": "display_data"
    }
   ],
   "source": [
    "def funcM(x,t):\n",
    "    ret=sum(x[0:256])+sum(x[t:256+t])\n",
    "    return ret\n",
    "x = data[:,0]\n",
    "print(np.size(x))\n",
    "# smarter way paper\n",
    "F=np.fft.fft(x)\n",
    "ps=np.real(F*np.conjugate(F))\n",
    "r=np.real(np.fft.ifft(ps))\n",
    "x2=x*x\n",
    "m=np.zeros(256)\n",
    "for i in np.arange(256):\n",
    "    m[i]=funcM(x2,i)\n",
    "print(r[0])\n",
    "print(m[0])\n",
    "r=r[0:256]\n",
    "nsdf=2*r/m\n",
    "plt.plot(nsdf)"
   ]
  },
  {
   "cell_type": "code",
   "execution_count": null,
   "metadata": {
    "collapsed": true
   },
   "outputs": [],
   "source": []
  }
 ],
 "metadata": {
  "kernelspec": {
   "display_name": "Python 3",
   "language": "python",
   "name": "python3"
  },
  "language_info": {
   "codemirror_mode": {
    "name": "ipython",
    "version": 3
   },
   "file_extension": ".py",
   "mimetype": "text/x-python",
   "name": "python",
   "nbconvert_exporter": "python",
   "pygments_lexer": "ipython3",
   "version": "3.5.1"
  }
 },
 "nbformat": 4,
 "nbformat_minor": 0
}
