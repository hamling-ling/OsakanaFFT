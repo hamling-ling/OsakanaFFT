{
 "cells": [
  {
   "cell_type": "markdown",
   "metadata": {},
   "source": [
    "GR-Citrus analogread analysis\n",
    "\n",
    "N=1024 sampling 1024 time log\n",
    "[Fri Jul 01 00:00:05.082 2016] start\n",
    "[Fri Jul 01 00:00:50.409 2016] finished\n"
   ]
  },
  {
   "cell_type": "code",
   "execution_count": 6,
   "metadata": {
    "collapsed": false
   },
   "outputs": [
    {
     "name": "stdout",
     "output_type": "stream",
     "text": [
      "sampling interval for N=1024:  0.0442646484375\n",
      "sampling frequency :  23133.5848390584 Hz\n"
     ]
    }
   ],
   "source": [
    "si=(50.409-5.082)/1024\n",
    "print(\"sampling interval for N=1024: \", si)\n",
    "freq=1/(si/1024)\n",
    "print(\"sampling frequency : \", freq, \"Hz\")"
   ]
  },
  {
   "cell_type": "code",
   "execution_count": null,
   "metadata": {
    "collapsed": true
   },
   "outputs": [],
   "source": []
  }
 ],
 "metadata": {
  "kernelspec": {
   "display_name": "Python 3",
   "language": "python",
   "name": "python3"
  },
  "language_info": {
   "codemirror_mode": {
    "name": "ipython",
    "version": 3
   },
   "file_extension": ".py",
   "mimetype": "text/x-python",
   "name": "python",
   "nbconvert_exporter": "python",
   "pygments_lexer": "ipython3",
   "version": "3.5.1"
  }
 },
 "nbformat": 4,
 "nbformat_minor": 0
}
