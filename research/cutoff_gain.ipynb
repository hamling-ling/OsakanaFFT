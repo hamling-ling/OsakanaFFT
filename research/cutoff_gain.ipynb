{
 "cells": [
  {
   "cell_type": "code",
   "execution_count": 2,
   "metadata": {
    "collapsed": true
   },
   "outputs": [],
   "source": [
    "import numpy as np\n",
    "import pandas as pd\n",
    "from matplotlib import pyplot as plt\n",
    "%matplotlib inline"
   ]
  },
  {
   "cell_type": "code",
   "execution_count": 7,
   "metadata": {
    "collapsed": true
   },
   "outputs": [],
   "source": [
    "def cutoff_gain(r1,c1,r2,c2):\n",
    "    fL=1/(2*np.pi*r1*c1)\n",
    "    fH=1/(2*np.pi*r2*c2)\n",
    "    print(\"fL=\", fL, \", fH=\", fH, \", g=\", 1+r2/r1)"
   ]
  },
  {
   "cell_type": "code",
   "execution_count": 4,
   "metadata": {
    "collapsed": true
   },
   "outputs": [],
   "source": [
    "k=10**3\n",
    "u=10**-6\n",
    "n=10**-9\n",
    "p=10**-12"
   ]
  },
  {
   "cell_type": "code",
   "execution_count": 32,
   "metadata": {
    "collapsed": false
   },
   "outputs": [
    {
     "name": "stdout",
     "output_type": "stream",
     "text": [
      "fL= 3.386275384933944 , fH= 15915.494309189537 , g= 2.0\n"
     ]
    }
   ],
   "source": [
    "R1=1*k\n",
    "C1=47*u\n",
    "R2=1*k\n",
    "C2=0.01*u\n",
    "cutoff_gain(R1,C1,R2,C2)"
   ]
  },
  {
   "cell_type": "code",
   "execution_count": 11,
   "metadata": {
    "collapsed": false
   },
   "outputs": [
    {
     "name": "stdout",
     "output_type": "stream",
     "text": [
      "fL= 72.04841244540305 , fH= 7234.315595086152 , g= 5.680851063829787\n"
     ]
    }
   ],
   "source": [
    "R1=47\n",
    "C1=47*u\n",
    "R2=220\n",
    "C2=0.1*u\n",
    "cutoff_gain(R1,C1,R2,C2)"
   ]
  },
  {
   "cell_type": "code",
   "execution_count": 21,
   "metadata": {
    "collapsed": false
   },
   "outputs": [
    {
     "name": "stdout",
     "output_type": "stream",
     "text": [
      "fL= 159.15494309189535 , fH= 1591.5494309189535 , g= 11.0\n"
     ]
    }
   ],
   "source": [
    "R1=1*k\n",
    "C1=4.7*u\n",
    "R2=10*k\n",
    "C2=0.01*u\n",
    "cutoff_gain(R1,C1,R2,C2)"
   ]
  },
  {
   "cell_type": "code",
   "execution_count": 20,
   "metadata": {
    "collapsed": false
   },
   "outputs": [
    {
     "name": "stdout",
     "output_type": "stream",
     "text": [
      "fL= 31.830988618379067 , fH= 3386.2753849339438 , g= 21.0\n"
     ]
    }
   ],
   "source": [
    "R1=5*k\n",
    "C1=1*u\n",
    "R2=100*k\n",
    "C2=470*p\n",
    "cutoff_gain(R1,C1,R2,C2)"
   ]
  },
  {
   "cell_type": "code",
   "execution_count": 14,
   "metadata": {
    "collapsed": false
   },
   "outputs": [
    {
     "name": "stdout",
     "output_type": "stream",
     "text": [
      "fL= 10.26144056040589 , fH= 3386.2753849339438 , g= 31.303030303030305\n"
     ]
    }
   ],
   "source": [
    "R1=3.3*k\n",
    "C1=4.7*u\n",
    "R2=100*k\n",
    "C2=470*p\n",
    "cutoff_gain(R1,C1,R2,C2)"
   ]
  },
  {
   "cell_type": "code",
   "execution_count": 15,
   "metadata": {
    "collapsed": false
   },
   "outputs": [
    {
     "name": "stdout",
     "output_type": "stream",
     "text": [
      "fL= 33.862753849339434 , fH= 3386.2753849339438 , g= 48.0\n"
     ]
    }
   ],
   "source": [
    "R1=100\n",
    "C1=47*u\n",
    "R2=4.7*k\n",
    "C2=0.01*u\n",
    "cutoff_gain(R1,C1,R2,C2)"
   ]
  },
  {
   "cell_type": "code",
   "execution_count": 12,
   "metadata": {
    "collapsed": false
   },
   "outputs": [
    {
     "name": "stdout",
     "output_type": "stream",
     "text": [
      "fL= 7.204841244540306 , fH= 33862.75384933943 , g= 2.0\n"
     ]
    }
   ],
   "source": [
    "R1=470\n",
    "C1=47*u\n",
    "R2=470\n",
    "C2=0.01*u\n",
    "cutoff_gain(R1,C1,R2,C2)"
   ]
  },
  {
   "cell_type": "code",
   "execution_count": 9,
   "metadata": {
    "collapsed": false
   },
   "outputs": [
    {
     "name": "stdout",
     "output_type": "stream",
     "text": [
      "fL= 31.830988618379067 , fH= 3386.2753849339438 , g= 21.0\n"
     ]
    }
   ],
   "source": [
    "R1=5*k\n",
    "C1=1*u\n",
    "R2=100*k\n",
    "C2=470*p\n",
    "cutoff_gain(R1,C1,R2,C2)"
   ]
  },
  {
   "cell_type": "code",
   "execution_count": null,
   "metadata": {
    "collapsed": true
   },
   "outputs": [],
   "source": []
  }
 ],
 "metadata": {
  "kernelspec": {
   "display_name": "Python 3",
   "language": "python",
   "name": "python3"
  },
  "language_info": {
   "codemirror_mode": {
    "name": "ipython",
    "version": 3
   },
   "file_extension": ".py",
   "mimetype": "text/x-python",
   "name": "python",
   "nbconvert_exporter": "python",
   "pygments_lexer": "ipython3",
   "version": "3.5.1"
  }
 },
 "nbformat": 4,
 "nbformat_minor": 0
}
