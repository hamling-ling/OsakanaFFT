{
 "cells": [
  {
   "cell_type": "code",
   "execution_count": 1,
   "metadata": {
    "collapsed": true
   },
   "outputs": [],
   "source": [
    "import numpy as np\n",
    "import pandas as pd\n",
    "from matplotlib import pyplot as plt\n",
    "%matplotlib inline"
   ]
  },
  {
   "cell_type": "code",
   "execution_count": 5,
   "metadata": {
    "collapsed": true
   },
   "outputs": [],
   "source": [
    "def cutoff_gain(r1,c1,r2,c2):\n",
    "    fL=1/(2*np.pi*r1*c1)\n",
    "    fH=1/(2*np.pi*r2*c2)\n",
    "    print(\"fL=\", fL, \", fH=\", fH, \", g=\", 1+r2/r1)"
   ]
  },
  {
   "cell_type": "code",
   "execution_count": 6,
   "metadata": {
    "collapsed": true
   },
   "outputs": [],
   "source": [
    "k=10**3\n",
    "u=10**-6\n",
    "n=10**-9\n",
    "p=10**-12"
   ]
  },
  {
   "cell_type": "code",
   "execution_count": 42,
   "metadata": {
    "collapsed": false
   },
   "outputs": [
    {
     "name": "stdout",
     "output_type": "stream",
     "text": [
      "fL= 72.04841244540305 , fH= 3386.2753849339438 , g= 2.0\n"
     ]
    }
   ],
   "source": [
    "R1=47\n",
    "C1=47*u\n",
    "R2=47\n",
    "C2=1*u\n",
    "cutoff_gain(R1,C1,R2,C2)"
   ]
  },
  {
   "cell_type": "code",
   "execution_count": 48,
   "metadata": {
    "collapsed": false
   },
   "outputs": [
    {
     "name": "stdout",
     "output_type": "stream",
     "text": [
      "fL= 72.04841244540305 , fH= 7234.315595086152 , g= 5.680851063829787\n"
     ]
    }
   ],
   "source": [
    "R1=47\n",
    "C1=47*u\n",
    "R2=220\n",
    "C2=0.1*u\n",
    "cutoff_gain(R1,C1,R2,C2)"
   ]
  },
  {
   "cell_type": "code",
   "execution_count": 85,
   "metadata": {
    "collapsed": false
   },
   "outputs": [
    {
     "name": "stdout",
     "output_type": "stream",
     "text": [
      "fL= 33.86275384933944 , fH= 1591.5494309189535 , g= 11.0\n"
     ]
    }
   ],
   "source": [
    "R1=1*k\n",
    "C1=4.7*u\n",
    "R2=10*k\n",
    "C2=0.01*u\n",
    "cutoff_gain(R1,C1,R2,C2)"
   ]
  },
  {
   "cell_type": "code",
   "execution_count": 116,
   "metadata": {
    "collapsed": false
   },
   "outputs": [
    {
     "name": "stdout",
     "output_type": "stream",
     "text": [
      "fL= 102.6144056040589 , fH= 3386.2753849339438 , g= 31.303030303030305\n"
     ]
    }
   ],
   "source": [
    "R1=330\n",
    "C1=4.7*u\n",
    "R2=10*k\n",
    "C2=4700*p\n",
    "cutoff_gain(R1,C1,R2,C2)"
   ]
  },
  {
   "cell_type": "code",
   "execution_count": 76,
   "metadata": {
    "collapsed": false
   },
   "outputs": [
    {
     "name": "stdout",
     "output_type": "stream",
     "text": [
      "fL= 33.862753849339434 , fH= 3386.2753849339438 , g= 48.0\n"
     ]
    }
   ],
   "source": [
    "R1=100\n",
    "C1=47*u\n",
    "R2=4.7*k\n",
    "C2=0.01*u\n",
    "cutoff_gain(R1,C1,R2,C2)"
   ]
  },
  {
   "cell_type": "code",
   "execution_count": null,
   "metadata": {
    "collapsed": true
   },
   "outputs": [],
   "source": []
  }
 ],
 "metadata": {
  "kernelspec": {
   "display_name": "Python 3",
   "language": "python",
   "name": "python3"
  },
  "language_info": {
   "codemirror_mode": {
    "name": "ipython",
    "version": 3
   },
   "file_extension": ".py",
   "mimetype": "text/x-python",
   "name": "python",
   "nbconvert_exporter": "python",
   "pygments_lexer": "ipython3",
   "version": "3.5.1"
  }
 },
 "nbformat": 4,
 "nbformat_minor": 0
}
