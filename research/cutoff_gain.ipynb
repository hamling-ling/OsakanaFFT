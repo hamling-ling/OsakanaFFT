{
 "cells": [
  {
   "cell_type": "code",
   "execution_count": 3,
   "metadata": {
    "collapsed": true
   },
   "outputs": [],
   "source": [
    "import numpy as np\n",
    "import pandas as pd\n",
    "from matplotlib import pyplot as plt\n",
    "%matplotlib inline"
   ]
  },
  {
   "cell_type": "code",
   "execution_count": 4,
   "metadata": {
    "collapsed": true
   },
   "outputs": [],
   "source": [
    "M=10**6\n",
    "k=10**3\n",
    "u=10**-6\n",
    "n=10**-9\n",
    "p=10**-12"
   ]
  },
  {
   "cell_type": "code",
   "execution_count": 5,
   "metadata": {
    "collapsed": false
   },
   "outputs": [],
   "source": [
    "def cutoff_gain(r1,c1,r2,c2):\n",
    "    fL=1/(2*np.pi*r1*c1)\n",
    "    fH=1/(2*np.pi*r2*c2)\n",
    "    print(\"r1=\", r1, \" r2=\", r2)\n",
    "    g=1+r2/r1\n",
    "    print(\"g=\", g)\n",
    "    #print(\"g=\", g, \", fL=\", fL, \", fH=\", fH)\n",
    "    return np.array([g, fL, fH, r1, c1, r2, c2])\n",
    "\n",
    "def cutoff_gainEx(r1,r2,c1,c2):\n",
    "    fL=1/(2*np.pi*r1*c1)\n",
    "    fH=1/(2*np.pi*r2*c2)\n",
    "    g=1+r2/r1\n",
    "    return np.array([g, fL, fH, r1, r2, c1, c2])"
   ]
  },
  {
   "cell_type": "code",
   "execution_count": 6,
   "metadata": {
    "collapsed": false
   },
   "outputs": [
    {
     "name": "stdout",
     "output_type": "stream",
     "text": [
      "g= 3 \tfL= 10  fH= 497981  R1= 3300  R2= 6800  C1= 4.7e-06  C2= 4.7e-11\n",
      "g= 3 \tfL= 7  fH= 198943  R1= 47000  R2= 100000  C1= 4.7e-07  C2= 8e-12\n",
      "g= 3 \tfL= 15  fH= 720484  R1= 2200  R2= 4700  C1= 4.7e-06  C2= 4.7e-11\n",
      "g= 3 \tfL= 15  fH= 663975  R1= 2200  R2= 5100  C1= 4.7e-06  C2= 4.7e-11\n",
      "g= 4 \tfL= 15  fH= 497981  R1= 2200  R2= 6800  C1= 4.7e-06  C2= 4.7e-11\n",
      "g= 7 \tfL= 4  fH= 423284  R1= 6800  R2= 47000  C1= 4.7e-06  C2= 8e-12\n",
      "g= 8 \tfL= 4  fH= 390085  R1= 6800  R2= 51000  C1= 4.7e-06  C2= 8e-12\n",
      "g= 10 \tfL= 6  fH= 423284  R1= 5100  R2= 47000  C1= 4.7e-06  C2= 8e-12\n",
      "g= 11 \tfL= 7  fH= 423284  R1= 4700  R2= 47000  C1= 4.7e-06  C2= 8e-12\n",
      "g= 11 \tfL= 6  fH= 390085  R1= 5100  R2= 51000  C1= 4.7e-06  C2= 8e-12\n",
      "g= 11 \tfL= 4  fH= 292564  R1= 6800  R2= 68000  C1= 4.7e-06  C2= 8e-12\n",
      "g= 11 \tfL= 7  fH= 390085  R1= 4700  R2= 51000  C1= 4.7e-06  C2= 8e-12\n",
      "g= 14 \tfL= 6  fH= 292564  R1= 5100  R2= 68000  C1= 4.7e-06  C2= 8e-12\n",
      "g= 14 \tfL= 4  fH= 218619  R1= 6800  R2= 91000  C1= 4.7e-06  C2= 8e-12\n",
      "g= 15 \tfL= 10  fH= 423284  R1= 3300  R2= 47000  C1= 4.7e-06  C2= 8e-12\n",
      "g= 15 \tfL= 7  fH= 292564  R1= 4700  R2= 68000  C1= 4.7e-06  C2= 8e-12\n",
      "g= 15 \tfL= 4  fH= 198943  R1= 6800  R2= 100000  C1= 4.7e-06  C2= 8e-12\n",
      "g= 16 \tfL= 10  fH= 390085  R1= 3300  R2= 51000  C1= 4.7e-06  C2= 8e-12\n",
      "g= 18 \tfL= 6  fH= 218619  R1= 5100  R2= 91000  C1= 4.7e-06  C2= 8e-12\n",
      "g= 20 \tfL= 7  fH= 218619  R1= 4700  R2= 91000  C1= 4.7e-06  C2= 8e-12\n",
      "g= 20 \tfL= 6  fH= 198943  R1= 5100  R2= 100000  C1= 4.7e-06  C2= 8e-12\n",
      "g= 21 \tfL= 10  fH= 292564  R1= 3300  R2= 68000  C1= 4.7e-06  C2= 8e-12\n",
      "g= 22 \tfL= 7  fH= 198943  R1= 4700  R2= 100000  C1= 4.7e-06  C2= 8e-12\n",
      "g= 22 \tfL= 15  fH= 423284  R1= 2200  R2= 47000  C1= 4.7e-06  C2= 8e-12\n",
      "g= 24 \tfL= 15  fH= 390085  R1= 2200  R2= 51000  C1= 4.7e-06  C2= 8e-12\n",
      "g= 28 \tfL= 10  fH= 218619  R1= 3300  R2= 91000  C1= 4.7e-06  C2= 8e-12\n",
      "g= 31 \tfL= 10  fH= 198943  R1= 3300  R2= 100000  C1= 4.7e-06  C2= 8e-12\n",
      "g= 31 \tfL= 15  fH= 292564  R1= 2200  R2= 68000  C1= 4.7e-06  C2= 8e-12\n",
      "g= 42 \tfL= 15  fH= 218619  R1= 2200  R2= 91000  C1= 4.7e-06  C2= 8e-12\n",
      "g= 46 \tfL= 15  fH= 198943  R1= 2200  R2= 100000  C1= 4.7e-06  C2= 8e-12\n"
     ]
    }
   ],
   "source": [
    "np.set_printoptions(precision=3)\n",
    "Rs=np.array([10, 22,33,47,51, 68, 91, \\\n",
    "             100, 220, 330, \\\n",
    "             470, 510, 680, \\\n",
    "             910, 1*M, \\\n",
    "             1*k, 2.2*k, 3.3*k, \\\n",
    "             4.7*k, 5.1*k, 6.8*k, \\\n",
    "             47*k, 51*k, 68*k, \\\n",
    "             91*k,100*k,220*k, \\\n",
    "             330*k,470*k,510*k,\\\n",
    "             910*k\n",
    "            ])\n",
    "Cs=np.array([8*p, 47*p, 470*p, \\\n",
    "             2200*p,4700*p,0.047*u, \\\n",
    "             0.01*u, 0.1*u, \\\n",
    "             0.47*u,4.7*u])\n",
    "\n",
    "RangeFL=np.array([1,30])\n",
    "RangeFH=np.array([100*k, 1000*k])\n",
    "RangeGain=np.array([3,100])\n",
    "gs=np.array([])\n",
    "\n",
    "all=np.array(np.meshgrid(Rs, Rs, Cs, Cs)).T.reshape(-1,4)\n",
    "all=np.transpose(all)\n",
    "\n",
    "gains=cutoff_gainEx(all[0,:],all[1,:],all[2,:],all[3,:])\n",
    "gains=gains.T.reshape(-1,7)\n",
    "#gains=np.sort(gains, axis=0)\n",
    "#print(\"sorted=\",gains)\n",
    "gains=gains[np.argsort(gains[:,0])]\n",
    "for x in gains:\n",
    "    g=x[0]\n",
    "    fL=x[1]\n",
    "    fH=x[2]\n",
    "    if(g<1):\n",
    "        continue\n",
    "    if(False==(RangeFL[0] < fL < RangeFL[1])):\n",
    "        continue\n",
    "    if(False==(RangeFH[0] < fH < RangeFH[1])) :\n",
    "        continue\n",
    "    if(False==(RangeGain[0] < g < RangeGain[1])) :\n",
    "        continue\n",
    "    R1=x[3]\n",
    "    R2=x[4]\n",
    "    C1=x[5]\n",
    "    C2=x[6]\n",
    "\n",
    "    print(\"g=\", int(g), \"\\tfL=\", int(fL), \" fH=\", int(fH), \" R1=\", int(R1), \" R2=\", int(R2), \" C1=\", C1, \" C2=\", C2)\n"
   ]
  },
  {
   "cell_type": "code",
   "execution_count": 156,
   "metadata": {
    "collapsed": false
   },
   "outputs": [
    {
     "name": "stdout",
     "output_type": "stream",
     "text": [
      "r1= 1000  r2= 1000\n",
      "g= 2.0\n"
     ]
    },
    {
     "data": {
      "text/plain": [
       "array([  2.000e+00,   3.386e+00,   1.592e+04,   1.000e+03,   4.700e-05,\n",
       "         1.000e+03,   1.000e-08])"
      ]
     },
     "execution_count": 156,
     "metadata": {},
     "output_type": "execute_result"
    }
   ],
   "source": [
    "R1=1*k\n",
    "C1=47*u\n",
    "R2=1*k\n",
    "C2=0.01*u\n",
    "cutoff_gain(R1,C1,R2,C2)"
   ]
  },
  {
   "cell_type": "code",
   "execution_count": 11,
   "metadata": {
    "collapsed": false
   },
   "outputs": [
    {
     "name": "stdout",
     "output_type": "stream",
     "text": [
      "fL= 72.04841244540305 , fH= 7234.315595086152 , g= 5.680851063829787\n"
     ]
    }
   ],
   "source": [
    "R1=47\n",
    "C1=47*u\n",
    "R2=220\n",
    "C2=0.1*u\n",
    "cutoff_gain(R1,C1,R2,C2)"
   ]
  },
  {
   "cell_type": "code",
   "execution_count": 21,
   "metadata": {
    "collapsed": false
   },
   "outputs": [
    {
     "name": "stdout",
     "output_type": "stream",
     "text": [
      "fL= 159.15494309189535 , fH= 1591.5494309189535 , g= 11.0\n"
     ]
    }
   ],
   "source": [
    "R1=1*k\n",
    "C1=4.7*u\n",
    "R2=10*k\n",
    "C2=0.01*u\n",
    "cutoff_gain(R1,C1,R2,C2)"
   ]
  },
  {
   "cell_type": "code",
   "execution_count": 20,
   "metadata": {
    "collapsed": false
   },
   "outputs": [
    {
     "name": "stdout",
     "output_type": "stream",
     "text": [
      "fL= 31.830988618379067 , fH= 3386.2753849339438 , g= 21.0\n"
     ]
    }
   ],
   "source": [
    "R1=5*k\n",
    "C1=1*u\n",
    "R2=100*k\n",
    "C2=470*p\n",
    "cutoff_gain(R1,C1,R2,C2)"
   ]
  },
  {
   "cell_type": "code",
   "execution_count": 14,
   "metadata": {
    "collapsed": false
   },
   "outputs": [
    {
     "name": "stdout",
     "output_type": "stream",
     "text": [
      "fL= 10.26144056040589 , fH= 3386.2753849339438 , g= 31.303030303030305\n"
     ]
    }
   ],
   "source": [
    "R1=3.3*k\n",
    "C1=4.7*u\n",
    "R2=100*k\n",
    "C2=470*p\n",
    "cutoff_gain(R1,C1,R2,C2)"
   ]
  },
  {
   "cell_type": "code",
   "execution_count": 15,
   "metadata": {
    "collapsed": false
   },
   "outputs": [
    {
     "name": "stdout",
     "output_type": "stream",
     "text": [
      "fL= 33.862753849339434 , fH= 3386.2753849339438 , g= 48.0\n"
     ]
    }
   ],
   "source": [
    "R1=100\n",
    "C1=47*u\n",
    "R2=4.7*k\n",
    "C2=0.01*u\n",
    "cutoff_gain(R1,C1,R2,C2)"
   ]
  },
  {
   "cell_type": "code",
   "execution_count": 12,
   "metadata": {
    "collapsed": false
   },
   "outputs": [
    {
     "name": "stdout",
     "output_type": "stream",
     "text": [
      "fL= 7.204841244540306 , fH= 33862.75384933943 , g= 2.0\n"
     ]
    }
   ],
   "source": [
    "R1=470\n",
    "C1=47*u\n",
    "R2=470\n",
    "C2=0.01*u\n",
    "cutoff_gain(R1,C1,R2,C2)"
   ]
  },
  {
   "cell_type": "code",
   "execution_count": 9,
   "metadata": {
    "collapsed": false
   },
   "outputs": [
    {
     "name": "stdout",
     "output_type": "stream",
     "text": [
      "fL= 31.830988618379067 , fH= 3386.2753849339438 , g= 21.0\n"
     ]
    }
   ],
   "source": [
    "R1=5*k\n",
    "C1=1*u\n",
    "R2=100*k\n",
    "C2=470*p\n",
    "cutoff_gain(R1,C1,R2,C2)"
   ]
  },
  {
   "cell_type": "code",
   "execution_count": 104,
   "metadata": {
    "collapsed": false
   },
   "outputs": [
    {
     "name": "stdout",
     "output_type": "stream",
     "text": [
      "[[1 2]\n",
      " [3 4]]\n",
      "[1 2]\n"
     ]
    }
   ],
   "source": [
    "x=np.array([[1, 2],[3, 4]])\n",
    "print(x)\n",
    "print(x[0,:])"
   ]
  },
  {
   "cell_type": "code",
   "execution_count": 11,
   "metadata": {
    "collapsed": false
   },
   "outputs": [
    {
     "data": {
      "text/plain": [
       "198943.67886486917"
      ]
     },
     "execution_count": 11,
     "metadata": {},
     "output_type": "execute_result"
    }
   ],
   "source": [
    "1/(2*np.pi*100*k*8*p)"
   ]
  },
  {
   "cell_type": "code",
   "execution_count": null,
   "metadata": {
    "collapsed": true
   },
   "outputs": [],
   "source": []
  }
 ],
 "metadata": {
  "kernelspec": {
   "display_name": "Python 3",
   "language": "python",
   "name": "python3"
  },
  "language_info": {
   "codemirror_mode": {
    "name": "ipython",
    "version": 3
   },
   "file_extension": ".py",
   "mimetype": "text/x-python",
   "name": "python",
   "nbconvert_exporter": "python",
   "pygments_lexer": "ipython3",
   "version": "3.5.1"
  }
 },
 "nbformat": 4,
 "nbformat_minor": 0
}
