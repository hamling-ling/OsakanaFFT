{
 "cells": [
  {
   "cell_type": "code",
   "execution_count": 5,
   "metadata": {
    "collapsed": true
   },
   "outputs": [],
   "source": [
    "import sys, re\n",
    "def getTime(filename):\n",
    "    log_re = re.compile(r\"\\[\\w+\\s(.+\\d\\d\\d\\d)]\")\n",
    "    file = open(filename)\n",
    "    lines = file.readlines()\n",
    "    file.close()\n",
    "    time_list=[]\n",
    "    for line in lines:\n",
    "        matched = log_re.match(line)\n",
    "        timestr=matched.group(1)\n",
    "        date=datetime.datetime.strptime(timestr, '%b %d %H:%M:%S.%f %Y')\n",
    "        time_list.append(date)\n",
    "\n",
    "    seconds = np.zeros(int(len(time_list)/2))\n",
    "    idx=0\n",
    "    for i in range(0,len(time_list),2):\n",
    "        diff=time_list[i+1]-time_list[i]\n",
    "        seconds[idx]=(diff.total_seconds())\n",
    "        idx = idx+1\n",
    "    return seconds"
   ]
  },
  {
   "cell_type": "code",
   "execution_count": 9,
   "metadata": {
    "collapsed": false
   },
   "outputs": [
    {
     "name": "stdout",
     "output_type": "stream",
     "text": [
      "[]\n"
     ]
    }
   ],
   "source": [
    "def writeNumArray(filename, list):\n",
    "    outfile=open(filename, \"w\")\n",
    "    for x in list:\n",
    "        outfile.write(str(x) + \"\\n\")\n",
    "    outfile.close()\n",
    "\n",
    "filename=\"nsdfN2_wrong.log\"\n",
    "file = open(filename)\n",
    "lines = file.readlines()\n",
    "file.close()\n",
    "\n",
    "re_start = re.compile(r\"raw data --\")\n",
    "re_end = re.compile(r\"normalizing\\.\\.\\.\")\n",
    "reading_data=False\n",
    "data_list=[]\n",
    "counter = 0\n",
    "for line in lines:\n",
    "    if reading_data:\n",
    "        matched = re_end.match(line)\n",
    "        if matched:\n",
    "            reading_data=False\n",
    "            outfn=str(counter)+\".dat\"\n",
    "            writeNumArray(outfn, data_list)\n",
    "            data_list[:]=[]\n",
    "            counter=counter+1\n",
    "        else:\n",
    "            data_list.append(int(line))\n",
    "    else:\n",
    "        matched = re_start.match(line)\n",
    "        if matched:\n",
    "            reading_data=True\n",
    "print(data_list)"
   ]
  },
  {
   "cell_type": "code",
   "execution_count": null,
   "metadata": {
    "collapsed": true
   },
   "outputs": [],
   "source": []
  }
 ],
 "metadata": {
  "kernelspec": {
   "display_name": "Python 3",
   "language": "python",
   "name": "python3"
  },
  "language_info": {
   "codemirror_mode": {
    "name": "ipython",
    "version": 3
   },
   "file_extension": ".py",
   "mimetype": "text/x-python",
   "name": "python",
   "nbconvert_exporter": "python",
   "pygments_lexer": "ipython3",
   "version": "3.5.1"
  }
 },
 "nbformat": 4,
 "nbformat_minor": 0
}
