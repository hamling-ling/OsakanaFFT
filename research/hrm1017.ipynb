{
 "cells": [
  {
   "cell_type": "code",
   "execution_count": 1,
   "metadata": {
    "collapsed": true
   },
   "outputs": [],
   "source": [
    "import numpy as np\n",
    "import pandas as pd\n",
    "from matplotlib import pyplot as plt\n",
    "%matplotlib inline"
   ]
  },
  {
   "cell_type": "markdown",
   "metadata": {},
   "source": [
    "HRM1017 analogread analysis\n"
   ]
  },
  {
   "cell_type": "code",
   "execution_count": 2,
   "metadata": {
    "collapsed": false,
    "scrolled": true
   },
   "outputs": [
    {
     "name": "stdout",
     "output_type": "stream",
     "text": [
      "sampling interval for N=1024*1024:  75.8\n",
      "sampling frequency :  13833.456464379948 Hz\n"
     ]
    }
   ],
   "source": [
    "si=75.8\n",
    "print(\"sampling interval for N=1024*1024: \", si)\n",
    "freq=1/(si/1024/1024)\n",
    "print(\"sampling frequency : \", freq, \"Hz\")"
   ]
  },
  {
   "cell_type": "code",
   "execution_count": 4,
   "metadata": {
    "collapsed": false
   },
   "outputs": [],
   "source": [
    "data=np.loadtxt('hrm1017_3.dat', delimiter=',')\n",
    "#plt.plot(data)"
   ]
  },
  {
   "cell_type": "code",
   "execution_count": 5,
   "metadata": {
    "collapsed": true
   },
   "outputs": [],
   "source": [
    "def funcM(x,t):\n",
    "    ret=sum(x[0:N2])+sum(x[t:N2+t])\n",
    "    return ret"
   ]
  },
  {
   "cell_type": "code",
   "execution_count": 11,
   "metadata": {
    "collapsed": false
   },
   "outputs": [
    {
     "name": "stdout",
     "output_type": "stream",
     "text": [
      "1.50420379639\n",
      "[  1.00000000e+00   9.45284095e-01   7.94501779e-01   5.80994750e-01\n",
      "   3.49742452e-01   1.42998938e-01  -1.51049523e-02  -1.22978409e-01\n",
      "  -1.93183072e-01  -2.41732807e-01  -2.82039066e-01  -3.20985658e-01\n",
      "  -3.56644208e-01  -3.77743032e-01  -3.67103203e-01  -3.09248064e-01\n",
      "  -2.00679916e-01  -5.71026377e-02   8.69853650e-02   1.89698151e-01\n",
      "   2.20976133e-01   1.74641640e-01   6.84600268e-02  -6.51132208e-02\n",
      "  -1.90405728e-01  -2.81249636e-01  -3.28191013e-01  -3.36508344e-01\n",
      "  -3.19553020e-01  -2.90400879e-01  -2.57885378e-01  -2.21751085e-01\n",
      "  -1.72910869e-01  -9.90005640e-02   1.27035296e-02   1.66877612e-01\n",
      "   3.55049522e-01   5.51137807e-01   7.16860809e-01   8.15129520e-01\n",
      "   8.24633311e-01   7.45415776e-01   5.95793463e-01   4.07803829e-01\n",
      "   2.19905674e-01   6.31721209e-02  -4.97315772e-02  -1.23412494e-01\n",
      "  -1.70372355e-01  -2.03650330e-01  -2.32797639e-01  -2.60842561e-01\n",
      "  -2.84184643e-01  -2.92391979e-01  -2.71181369e-01  -2.10383860e-01\n",
      "  -1.11607847e-01   6.42178269e-03   1.12488777e-01   1.74880819e-01\n",
      "   1.76851091e-01   1.21606644e-01   2.92868329e-02  -7.29940394e-02\n",
      "  -1.60254736e-01  -2.17931648e-01  -2.43681622e-01  -2.44387580e-01\n",
      "  -2.29751849e-01  -2.08396070e-01  -1.84064534e-01  -1.54140748e-01\n",
      "  -1.10935150e-01  -4.58499168e-02   4.79774224e-02   1.70557060e-01\n",
      "   3.10458168e-01   4.44520183e-01   5.44231599e-01   5.87526994e-01\n",
      "   5.66608164e-01   4.88323226e-01   3.70172502e-01   2.37312004e-01\n",
      "   1.15580892e-01   2.18904608e-02  -4.11327722e-02  -8.06685730e-02\n",
      "  -1.05881050e-01  -1.23981392e-01  -1.39988198e-01  -1.55144023e-01\n",
      "  -1.66855932e-01  -1.67780512e-01  -1.49234335e-01  -1.05691572e-01\n",
      "  -4.07883978e-02   3.09465437e-02   8.91733717e-02   1.16652111e-01\n",
      "   1.09548847e-01   7.48506160e-02   2.62419154e-02  -2.22190735e-02\n",
      "  -6.09336305e-02  -8.60952685e-02  -9.92425318e-02  -1.03618882e-01\n",
      "  -1.01474120e-01  -9.56748672e-02  -8.70705718e-02  -7.34978541e-02\n",
      "  -5.17903775e-02  -1.96969766e-02   2.40758389e-02   7.66004445e-02\n",
      "   1.29903237e-01   1.73388165e-01   1.97360841e-01   1.96689933e-01\n",
      "   1.74191980e-01   1.36375625e-01   9.32513044e-02   5.39619882e-02\n",
      "   2.59175773e-02   1.01454931e-02   2.24154981e-03  -5.98498681e-04]\n"
     ]
    },
    {
     "data": {
      "image/png": "[encoded data removed]",
      "text/plain": [
       "<matplotlib.figure.Figure at 0x28278d87358>"
      ]
     },
     "metadata": {},
     "output_type": "display_data"
    }
   ],
   "source": [
    "N=256\n",
    "N2=128\n",
    "x=data\n",
    "x=(x-512)/512\n",
    "x[N2:N] = np.zeros(N2)\n",
    "#plt.plot(x)\n",
    "\n",
    "# smarter way paper\n",
    "F=np.fft.fft(x)\n",
    "#plt.plot(np.real(F))\n",
    "ps=np.real(F*np.conjugate(F))\n",
    "#plt.plot(ps)\n",
    "r=np.real(np.fft.ifft(ps))\n",
    "x2=x*x\n",
    "m=np.zeros(N2)\n",
    "for i in np.arange(N2):\n",
    "    m[i]=funcM(x2,i)\n",
    "#plt.plot(m)\n",
    "print(m[0])\n",
    "r=r[0:N2]\n",
    "nsdf=2*r/m\n",
    "plt.plot(nsdf[38:43])\n",
    "#print(nsdf)"
   ]
  },
  {
   "cell_type": "code",
   "execution_count": 12,
   "metadata": {
    "collapsed": false,
    "scrolled": true
   },
   "outputs": [
    {
     "name": "stdout",
     "output_type": "stream",
     "text": [
      "-- fft --\n",
      "[ 0.00882721+0.j         -0.00130075-0.00416445j  0.00215763+0.00016697j\n",
      " -0.00274582-0.00095658j  0.00255318+0.00232301j -0.00521182+0.00023977j\n",
      "  0.00474593+0.01419831j  0.01406422-0.00225287j  0.00278208-0.00429883j\n",
      "  0.00336865-0.00061411j]\n",
      "-- ps --\n",
      "[  3.89598135e-05   9.51728598e-06   2.34163002e-06   4.22727085e-06\n",
      "   5.95753236e-06   1.36102712e-05   1.12057957e-04   1.01438857e-04\n",
      "   1.31099744e-05   5.86248613e-06]\n",
      "-- ifft --\n",
      "[ -3.25232744e-04 -9.37983110e-19j  -2.78204679e-04 -9.08442836e-19j\n",
      "  -2.16186047e-04 +4.06575815e-20j  -1.23582780e-04 +5.84607147e-21j\n",
      "   1.58548355e-05 +1.62086797e-19j   2.08258629e-04 +5.46770508e-19j\n",
      "   4.42832708e-04 +4.98793006e-19j   6.87055290e-04 +9.20276363e-19j\n",
      "   8.93644989e-04 +1.50563914e-18j   1.01493299e-03 +2.06763283e-18j]\n",
      "-- m --\n",
      "[ 0.0058758   0.00582393  0.00574233  0.00565398  0.00558907  0.00555474\n",
      "  0.0055422   0.00553839  0.0055369   0.00553666]\n",
      "max r= 0.00146894901991 , max m= 0.00587579607964\n"
     ]
    },
    {
     "data": {
      "image/png": "[encoded data removed]",
      "text/plain": [
       "<matplotlib.figure.Figure at 0x28277d51f98>"
      ]
     },
     "metadata": {},
     "output_type": "display_data"
    }
   ],
   "source": [
    "\n",
    "# overflow considering\n",
    "F=np.fft.fft(x)/N             #avoid overflow here\n",
    "print(\"-- fft --\")\n",
    "print(F[0:10])\n",
    "ps=np.real(F*np.conjugate(F)/2)  #avoid overflow here\n",
    "print(\"-- ps --\")\n",
    "print(ps[0:10])\n",
    "#plt.plot(ps[30:40])\n",
    "ifftps=np.fft.ifft(ps)*N           #avoid overflow here(not *1024)\n",
    "print(\"-- ifft --\")\n",
    "print(ifftps[30:40])\n",
    "r=np.real(ifftps)\n",
    "#plt.plot(r)\n",
    "x2=x*x/N                       #avoid overflow\n",
    "m=np.zeros(N2)\n",
    "for i in np.arange(N2):\n",
    "    m[i]=funcM(x2,i)\n",
    "print(\"-- ms --\")\n",
    "print(m[0:10])\n",
    "#plt.plot(m)\n",
    "r=r[0:N2]\n",
    "print(\"max r=\", np.max(r), \", max m=\", np.max(m))\n",
    "nsdf=2*2*r/(m)                #avoid overflow here\n",
    "plt.plot(nsdf)\n",
    "plt.xlim([0,N2])\n",
    "plt.show()"
   ]
  },
  {
   "cell_type": "code",
   "execution_count": 13,
   "metadata": {
    "collapsed": false
   },
   "outputs": [
    {
     "name": "stdout",
     "output_type": "stream",
     "text": [
      "[ 80.876  80.426  80.907]\n",
      "1024*1024 sampling took T= 80.7363333333 sec\n",
      "freq per sample= 0.0123859972173\n",
      "[  inf  128.  116.  109.  104.  100.   97.   94.   92.   90.   88.   86.\n",
      "   85.   83.   82.   81.   80.   79.   78.   77.   76.   75.   74.   73.\n",
      "   73.   72.   71.   71.   70.   69.   69.   68.   68.   67.   67.   66.\n",
      "   66.   65.   65.   64.   64.   63.   63.   62.   62.   62.   61.   61.\n",
      "   61.   60.   60.   60.   59.   59.   59.   58.   58.   58.   57.   57.\n",
      "   57.   56.   56.   56.   56.   55.   55.   55.   55.   54.   54.   54.\n",
      "   54.   53.   53.   53.   53.   52.   52.   52.   52.   52.   51.   51.\n",
      "   51.   51.   50.   50.   50.   50.   50.   50.   49.   49.   49.   49.\n",
      "   49.   48.   48.   48.   48.   48.   48.   47.   47.   47.   47.   47.\n",
      "   47.   46.   46.   46.   46.   46.   46.   45.   45.   45.   45.   45.\n",
      "   45.   45.   44.   44.   44.   44.   44.   44.]\n",
      "64.0\n"
     ]
    }
   ],
   "source": [
    "t1=(16*60 + 52.636)-(15*60 + 31.760)\n",
    "t2=(18*60 + 33.641)-(17*60 + 13.215)\n",
    "t3=(20*60 + 16.043)-(18*60 + 55.136)\n",
    "\n",
    "ts=np.array([t1, t2, t3])\n",
    "print(ts)\n",
    "tavg=np.average(ts)\n",
    "T=tavg\n",
    "\n",
    "print(\"1024*1024 sampling took T=\",T, \"sec\")\n",
    "freq=1/(T)\n",
    "print(\"freq per sample=\", freq)\n",
    "\n",
    "ns=np.arange(128)\n",
    "freqs=1/(ns*T/1024/1024)\n",
    "#print(freqs)\n",
    "k=np.log10(2**(1/12))\n",
    "midinotes=np.round(np.log10(freqs/27.5)/k)+21\n",
    "# array to use in program\n",
    "print(midinotes)\n",
    "print(midinotes[40])"
   ]
  },
  {
   "cell_type": "code",
   "execution_count": null,
   "metadata": {
    "collapsed": true
   },
   "outputs": [],
   "source": []
  }
 ],
 "metadata": {
  "kernelspec": {
   "display_name": "Python 3",
   "language": "python",
   "name": "python3"
  },
  "language_info": {
   "codemirror_mode": {
    "name": "ipython",
    "version": 3
   },
   "file_extension": ".py",
   "mimetype": "text/x-python",
   "name": "python",
   "nbconvert_exporter": "python",
   "pygments_lexer": "ipython3",
   "version": "3.5.1"
  }
 },
 "nbformat": 4,
 "nbformat_minor": 0
}
