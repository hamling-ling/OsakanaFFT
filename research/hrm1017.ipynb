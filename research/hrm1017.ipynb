{
 "cells": [
  {
   "cell_type": "code",
   "execution_count": 1,
   "metadata": {
    "collapsed": true
   },
   "outputs": [],
   "source": [
    "import numpy as np\n",
    "import pandas as pd\n",
    "from matplotlib import pyplot as plt\n",
    "%matplotlib inline"
   ]
  },
  {
   "cell_type": "markdown",
   "metadata": {},
   "source": [
    "HRM1017 analogread analysis\n"
   ]
  },
  {
   "cell_type": "code",
   "execution_count": 2,
   "metadata": {
    "collapsed": false,
    "scrolled": true
   },
   "outputs": [
    {
     "name": "stdout",
     "output_type": "stream",
     "text": [
      "sampling interval for N=1024*1024:  75.8\n",
      "sampling frequency :  13833.456464379948 Hz\n"
     ]
    }
   ],
   "source": [
    "si=75.8\n",
    "print(\"sampling interval for N=1024*1024: \", si)\n",
    "freq=1/(si/1024/1024)\n",
    "print(\"sampling frequency : \", freq, \"Hz\")"
   ]
  },
  {
   "cell_type": "code",
   "execution_count": 14,
   "metadata": {
    "collapsed": false
   },
   "outputs": [],
   "source": [
    "data=np.loadtxt('hrm1017.dat', delimiter=',')\n",
    "#plt.plot(data)"
   ]
  },
  {
   "cell_type": "code",
   "execution_count": 26,
   "metadata": {
    "collapsed": true
   },
   "outputs": [],
   "source": [
    "def funcM(x,t):\n",
    "    ret=sum(x[0:N2])+sum(x[t:N2+t])\n",
    "    return ret"
   ]
  },
  {
   "cell_type": "code",
   "execution_count": 36,
   "metadata": {
    "collapsed": false
   },
   "outputs": [
    {
     "name": "stdout",
     "output_type": "stream",
     "text": [
      "7.0158996582\n"
     ]
    },
    {
     "data": {
      "text/plain": [
       "[<matplotlib.lines.Line2D at 0x1d3b44905f8>]"
      ]
     },
     "execution_count": 36,
     "metadata": {},
     "output_type": "execute_result"
    },
    {
     "data": {
      "image/png": "[encoded data removed]",
      "text/plain": [
       "<matplotlib.figure.Figure at 0x1d3b40a1588>"
      ]
     },
     "metadata": {},
     "output_type": "display_data"
    }
   ],
   "source": [
    "N=256\n",
    "N2=128\n",
    "x=data\n",
    "x=(x-512)/512\n",
    "x[N2:N] = np.zeros(N2)\n",
    "#plt.plot(x)\n",
    "\n",
    "# smarter way paper\n",
    "F=np.fft.fft(x)\n",
    "#plt.plot(np.real(F))\n",
    "ps=np.real(F*np.conjugate(F))\n",
    "#plt.plot(ps)\n",
    "r=np.real(np.fft.ifft(ps))\n",
    "x2=x*x\n",
    "m=np.zeros(N2)\n",
    "for i in np.arange(N2):\n",
    "    m[i]=funcM(x2,i)\n",
    "#plt.plot(m)\n",
    "print(m[0])\n",
    "r=r[0:N2]\n",
    "nsdf=2*r/m\n",
    "plt.plot(nsdf)"
   ]
  },
  {
   "cell_type": "code",
   "execution_count": 7,
   "metadata": {
    "collapsed": false
   },
   "outputs": [
    {
     "name": "stdout",
     "output_type": "stream",
     "text": [
      "256\n",
      "[ 334.  353.  392.  447.  502.  545.  568.  577.  579.  574.]\n",
      "[ 63854.00000000    +0.j            676.18177808-40780.87768598j\n",
      "   -107.58814645  -131.70628065j    796.66680102-13883.43322314j\n",
      "   -361.41422509  -456.94782129j    982.90419741 -8867.89913448j\n",
      "  -2096.62624387 -1647.38365022j   -743.31560536 -3609.13323901j\n",
      "    892.34725536  -215.09434194j    232.82021827 -4037.97943346j]\n",
      "[ 334. +6.12843110e-14j  353. -1.66533454e-15j  392. -5.25935397e-14j\n",
      "  447. -5.97299987e-14j  502. +4.08562073e-14j  545. +3.65263375e-14j\n",
      "  568. -1.64623324e-14j  577. -3.50830476e-14j  579. -3.06439723e-14j\n",
      "  574. -1.35657115e-14j]\n"
     ]
    },
    {
     "data": {
      "text/plain": [
       "[<matplotlib.lines.Line2D at 0x1d3b3d0ff60>]"
      ]
     },
     "execution_count": 7,
     "metadata": {},
     "output_type": "execute_result"
    },
    {
     "data": {
      "image/png": "[encoded data removed]",
      "text/plain": [
       "<matplotlib.figure.Figure at 0x1d3b2cf1780>"
      ]
     },
     "metadata": {},
     "output_type": "display_data"
    }
   ],
   "source": [
    "\n",
    "F=np.fft.fft(x)\n",
    "f=np.fft.ifft(F)\n",
    "#print(ns)\n",
    "#print(np.sin(1 * 2.0 * np.pi/N))\n",
    "print(len(F))\n",
    "print(x[0:10])\n",
    "print(F[0:10]) # /N for fixed point fft\n",
    "print(f[0:10])\n",
    "plt.plot(abs(F[0:30]))\n",
    "#plt.show()"
   ]
  },
  {
   "cell_type": "code",
   "execution_count": null,
   "metadata": {
    "collapsed": true
   },
   "outputs": [],
   "source": []
  }
 ],
 "metadata": {
  "kernelspec": {
   "display_name": "Python 3",
   "language": "python",
   "name": "python3"
  },
  "language_info": {
   "codemirror_mode": {
    "name": "ipython",
    "version": 3
   },
   "file_extension": ".py",
   "mimetype": "text/x-python",
   "name": "python",
   "nbconvert_exporter": "python",
   "pygments_lexer": "ipython3",
   "version": "3.5.1"
  }
 },
 "nbformat": 4,
 "nbformat_minor": 0
}
