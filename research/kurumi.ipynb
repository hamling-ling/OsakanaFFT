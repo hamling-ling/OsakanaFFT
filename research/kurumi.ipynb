{
 "cells": [
  {
   "cell_type": "code",
   "execution_count": 1,
   "metadata": {
    "collapsed": true
   },
   "outputs": [],
   "source": [
    "import numpy as np\n",
    "import pandas as pd\n",
    "from matplotlib import pyplot as plt\n",
    "%matplotlib inline"
   ]
  },
  {
   "cell_type": "markdown",
   "metadata": {},
   "source": [
    "HRM1017 analogread analysis\n"
   ]
  },
  {
   "cell_type": "code",
   "execution_count": 3,
   "metadata": {
    "collapsed": false
   },
   "outputs": [],
   "source": [
    "data=np.loadtxt('hrm1017_3.dat', delimiter=',')\n",
    "#plt.plot(data)"
   ]
  },
  {
   "cell_type": "code",
   "execution_count": 4,
   "metadata": {
    "collapsed": true
   },
   "outputs": [],
   "source": [
    "def funcM(x,t):\n",
    "    ret=sum(x[0:N2])+sum(x[t:N2+t])\n",
    "    return ret"
   ]
  },
  {
   "cell_type": "code",
   "execution_count": 6,
   "metadata": {
    "collapsed": false
   },
   "outputs": [
    {
     "name": "stdout",
     "output_type": "stream",
     "text": [
      "1.50420379639\n"
     ]
    },
    {
     "name": "stderr",
     "output_type": "stream",
     "text": [
      "C:\\Users\\nobuh\\Anaconda3\\lib\\site-packages\\ipykernel\\__main__.py:6: DeprecationWarning: using a non-integer number instead of an integer will result in an error in the future\n",
      "C:\\Users\\nobuh\\Anaconda3\\lib\\site-packages\\ipykernel\\__main__.py:16: DeprecationWarning: using a non-integer number instead of an integer will result in an error in the future\n",
      "C:\\Users\\nobuh\\Anaconda3\\lib\\site-packages\\ipykernel\\__main__.py:2: DeprecationWarning: using a non-integer number instead of an integer will result in an error in the future\n",
      "  from ipykernel import kernelapp as app\n",
      "C:\\Users\\nobuh\\Anaconda3\\lib\\site-packages\\ipykernel\\__main__.py:18: DeprecationWarning: using a non-integer number instead of an integer will result in an error in the future\n",
      "C:\\Users\\nobuh\\Anaconda3\\lib\\site-packages\\ipykernel\\__main__.py:21: DeprecationWarning: using a non-integer number instead of an integer will result in an error in the future\n"
     ]
    },
    {
     "data": {
      "text/plain": [
       "[<matplotlib.lines.Line2D at 0x2a7b6301f28>]"
      ]
     },
     "execution_count": 6,
     "metadata": {},
     "output_type": "execute_result"
    },
    {
     "data": {
      "image/png": "[encoded data removed]",
      "text/plain": [
       "<matplotlib.figure.Figure at 0x2a7b6301e10>"
      ]
     },
     "metadata": {},
     "output_type": "display_data"
    }
   ],
   "source": [
    "N=256\n",
    "N2=N/2\n",
    "\n",
    "x=data\n",
    "x=(x-512)/512\n",
    "x[N2:N] = np.zeros(N2)\n",
    "plt.plot(x)\n",
    "\n",
    "# smarter way paper\n",
    "F=np.fft.fft(x)\n",
    "#plt.plot(np.real(F))\n",
    "ps=np.real(F*np.conjugate(F))\n",
    "#plt.plot(ps)\n",
    "r=np.real(np.fft.ifft(ps))\n",
    "x2=x*x\n",
    "m=np.zeros(N2)\n",
    "for i in np.arange(N2):\n",
    "    m[i]=funcM(x2,i)\n",
    "#plt.plot(m)\n",
    "print(m[0])\n",
    "r=r[0:N2]\n",
    "nsdf=2*r/m\n",
    "plt.plot(nsdf)\n",
    "#print(nsdf)"
   ]
  },
  {
   "cell_type": "code",
   "execution_count": 7,
   "metadata": {
    "collapsed": false,
    "scrolled": true
   },
   "outputs": [
    {
     "name": "stdout",
     "output_type": "stream",
     "text": [
      "-- fft --\n",
      "[ 0.00882721+0.j         -0.00130075-0.00416445j  0.00215763+0.00016697j\n",
      " -0.00274582-0.00095658j  0.00255318+0.00232301j -0.00521182+0.00023977j\n",
      "  0.00474593+0.01419831j  0.01406422-0.00225287j  0.00278208-0.00429883j\n",
      "  0.00336865-0.00061411j]\n",
      "-- ps --\n",
      "[ 0.00997371  0.00243643  0.00059946  0.00108218  0.00152513  0.00348423\n",
      "  0.02868684  0.02596835  0.00335615  0.0015008 ]\n",
      "-- ifft --\n",
      "[ -3.25232744e-04 -9.10878056e-19j  -2.78204679e-04 -8.82396573e-19j\n",
      "  -2.16186047e-04 +4.06575815e-20j  -1.23582780e-04 +5.84607147e-21j\n",
      "   1.58548355e-05 +2.02744379e-19j   2.08258629e-04 +5.60323035e-19j\n",
      "   4.42832708e-04 +5.53003115e-19j   6.87055290e-04 +9.60933945e-19j\n",
      "   8.93644989e-04 +1.51919167e-18j   1.01493299e-03 +2.08817338e-18j]\n",
      "-- ms --\n",
      "[ 0.0029379   0.00291196  0.00287116  0.00282699  0.00279453  0.00277737\n",
      "  0.0027711   0.00276919  0.00276845  0.00276833]\n",
      "max r= 0.00146894901991 , max m= 0.00293789803982\n",
      "-- nsdf --\n",
      "[ 1.          0.9452841   0.79450178  0.58099475  0.34974245  0.14299894\n",
      " -0.01510495 -0.12297841 -0.19318307 -0.24173281]\n"
     ]
    },
    {
     "name": "stderr",
     "output_type": "stream",
     "text": [
      "C:\\Users\\nobuh\\Anaconda3\\lib\\site-packages\\ipykernel\\__main__.py:16: DeprecationWarning: using a non-integer number instead of an integer will result in an error in the future\n",
      "C:\\Users\\nobuh\\Anaconda3\\lib\\site-packages\\ipykernel\\__main__.py:2: DeprecationWarning: using a non-integer number instead of an integer will result in an error in the future\n",
      "  from ipykernel import kernelapp as app\n",
      "C:\\Users\\nobuh\\Anaconda3\\lib\\site-packages\\ipykernel\\__main__.py:18: DeprecationWarning: using a non-integer number instead of an integer will result in an error in the future\n",
      "C:\\Users\\nobuh\\Anaconda3\\lib\\site-packages\\ipykernel\\__main__.py:22: DeprecationWarning: using a non-integer number instead of an integer will result in an error in the future\n"
     ]
    },
    {
     "data": {
      "image/png": "[encoded data removed]",
      "text/plain": [
       "<matplotlib.figure.Figure at 0x2a7b673e4a8>"
      ]
     },
     "metadata": {},
     "output_type": "display_data"
    }
   ],
   "source": [
    "\n",
    "# overflow considering\n",
    "F=np.fft.fft(x)/N             #scale to avoid overflow here\n",
    "print(\"-- fft --\")\n",
    "print(F[0:10])\n",
    "ps=np.real(F*np.conjugate(F))*N/2  #multiply N to get better resolution\n",
    "print(\"-- ps --\")\n",
    "print(ps[0:10])\n",
    "#plt.plot(ps[30:40])\n",
    "ifftps=np.fft.ifft(ps)           #no scaling\n",
    "print(\"-- ifft --\")\n",
    "print(ifftps[30:40])\n",
    "r=np.real(ifftps)\n",
    "#plt.plot(r)\n",
    "x2=x*x/(N*2)                       #avoid overflow\n",
    "m=np.zeros(N2)\n",
    "for i in np.arange(N2):\n",
    "    m[i]=funcM(x2,i)\n",
    "print(\"-- ms --\")\n",
    "print(m[0:10])\n",
    "#plt.plot(m)\n",
    "r=r[0:N2]\n",
    "print(\"max r=\", np.max(r), \", max m=\", np.max(m))\n",
    "nsdf=2*r/(m)                #avoid overflow here\n",
    "print(\"-- nsdf --\")\n",
    "print(nsdf[0:10])\n",
    "plt.plot(nsdf)\n",
    "plt.xlim([0,N2])\n",
    "plt.show()"
   ]
  },
  {
   "cell_type": "code",
   "execution_count": 5,
   "metadata": {
    "collapsed": true
   },
   "outputs": [],
   "source": [
    "#512*1024adc and min, max w/o advertising\n",
    "ts=np.array([38902980, 38901476, 38900266, 38900491, 38900613,38900814 ])\n",
    "ts=ts*2/1000/1000"
   ]
  },
  {
   "cell_type": "code",
   "execution_count": 6,
   "metadata": {
    "collapsed": false
   },
   "outputs": [
    {
     "name": "stdout",
     "output_type": "stream",
     "text": [
      "[ 77.80596   77.802952  77.800532  77.800982  77.801226  77.801628]\n",
      "1024*1024 sampling took T= 77.8022133333 sec\n",
      "freq per sample= 13477.0 T per sample= 7.41979726156e-05\n",
      "freq per 1024samples= 13800916.0\n",
      "[  inf  128.  116.  109.  104.  100.   97.   95.   92.   90.   88.   87.\n",
      "   85.   84.   83.   81.   80.   79.   78.   77.   76.   76.   75.   74.\n",
      "   73.   73.   72.   71.   71.   70.   69.   69.   68.   68.   67.   67.\n",
      "   66.   66.   65.   65.   64.   64.   64.   63.   63.   62.   62.   62.\n",
      "   61.   61.   61.   60.   60.   60.   59.   59.   59.   58.   58.   58.\n",
      "   57.   57.   57.   57.   56.   56.   56.   55.   55.   55.   55.   54.\n",
      "   54.   54.   54.   53.   53.   53.   53.   53.   52.   52.   52.   52.\n",
      "   52.   51.   51.   51.   51.   51.   50.   50.   50.   50.   50.   49.\n",
      "   49.   49.   49.   49.   49.   48.   48.   48.   48.   48.   48.   47.\n",
      "   47.   47.   47.   47.   47.   46.   46.   46.   46.   46.   46.   46.\n",
      "   45.   45.   45.   45.   45.   45.   45.   44.]\n",
      "64.0\n"
     ]
    }
   ],
   "source": [
    "print(ts)\n",
    "tavg=np.average(ts)\n",
    "T=tavg\n",
    "\n",
    "print(\"1024*1024 sampling took T=\",T, \"sec\")\n",
    "freq=1/(T)*1024*1024\n",
    "print(\"freq per sample=\", round(freq), \"T per sample=\", T/(1024*1024))\n",
    "print(\"freq per 1024samples=\", round(freq*1024))\n",
    "ns=np.arange(128)\n",
    "freqs=1/(ns*T/1024/1024)\n",
    "#print(freqs)\n",
    "k=np.log10(2**(1/12))\n",
    "midinotes=np.round(np.log10(freqs/27.5)/k)+21\n",
    "# array to use in program\n",
    "print(midinotes)\n",
    "print(midinotes[40])"
   ]
  },
  {
   "cell_type": "code",
   "execution_count": 22,
   "metadata": {
    "collapsed": false
   },
   "outputs": [
    {
     "name": "stdout",
     "output_type": "stream",
     "text": [
      "9.5172971825e-06\n"
     ]
    },
    {
     "data": {
      "text/plain": [
       "9.5172971825e-06"
      ]
     },
     "execution_count": 22,
     "metadata": {},
     "output_type": "execute_result"
    }
   ],
   "source": [
    "a=-0.00130075-0.00416445j\n",
    "x=a*np.conjugate(a)/2\n",
    "print(np.real(x))\n",
    "(0.00130075**2 + 0.00416445**2)/2"
   ]
  },
  {
   "cell_type": "code",
   "execution_count": null,
   "metadata": {
    "collapsed": true
   },
   "outputs": [],
   "source": []
  }
 ],
 "metadata": {
  "kernelspec": {
   "display_name": "Python 3",
   "language": "python",
   "name": "python3"
  },
  "language_info": {
   "codemirror_mode": {
    "name": "ipython",
    "version": 3
   },
   "file_extension": ".py",
   "mimetype": "text/x-python",
   "name": "python",
   "nbconvert_exporter": "python",
   "pygments_lexer": "ipython3",
   "version": "3.5.1"
  }
 },
 "nbformat": 4,
 "nbformat_minor": 0
}
