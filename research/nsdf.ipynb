{
 "cells": [
  {
   "cell_type": "code",
   "execution_count": 12,
   "metadata": {
    "collapsed": true
   },
   "outputs": [],
   "source": [
    "import numpy as np\n",
    "import pandas as pd\n",
    "import math\n",
    "from matplotlib import pyplot as plt\n",
    "%matplotlib inline"
   ]
  },
  {
   "cell_type": "code",
   "execution_count": 6,
   "metadata": {
    "collapsed": false
   },
   "outputs": [
    {
     "data": {
      "text/plain": [
       "[<matplotlib.lines.Line2D at 0x1f379bd9a20>]"
      ]
     },
     "execution_count": 6,
     "metadata": {},
     "output_type": "execute_result"
    },
    {
     "data": {
      "image/png": "[encoded data removed]",
      "text/plain": [
       "<matplotlib.figure.Figure at 0x1f379acaa20>"
      ]
     },
     "metadata": {},
     "output_type": "display_data"
    }
   ],
   "source": [
    "N=1024 #adc=N\\2\n",
    "N2=int(N/2)\n",
    "data=np.loadtxt('kurumi_1024_LowC1.dat', delimiter=',')\n",
    "\n",
    "N=1024\n",
    "N2=int(N/2)\n",
    "x=data\n",
    "x=(x-512)/512\n",
    "x[N2:N] = np.zeros(N2)\n",
    "plt.plot(x)"
   ]
  },
  {
   "cell_type": "code",
   "execution_count": 54,
   "metadata": {
    "collapsed": true
   },
   "outputs": [],
   "source": [
    "def funcM(_x2,t):\n",
    "    ret=sum(_x2[0:N2])+sum(_x2[t:N2+t])\n",
    "    return ret\n",
    "def funcMs(_x2):\n",
    "    m=np.zeros(N2)\n",
    "    for i in np.arange(N2):\n",
    "        m[i]=funcM(_x2,i)\n",
    "    return m"
   ]
  },
  {
   "cell_type": "code",
   "execution_count": 55,
   "metadata": {
    "collapsed": false
   },
   "outputs": [],
   "source": [
    "# return M[] array\n",
    "def funcMsEx(_x2,_r0) :\n",
    "    ms=np.zeros(N)\n",
    "    ms[0]=2*_r0\n",
    "    for i in np.arange(1,N2-1,1) :\n",
    "        ms[i]=ms[i-1]-_x2[i-1]+_x2[N2+i]\n",
    "    return ms[0:N2]"
   ]
  },
  {
   "cell_type": "code",
   "execution_count": 64,
   "metadata": {
    "collapsed": false
   },
   "outputs": [
    {
     "name": "stdout",
     "output_type": "stream",
     "text": [
      "-- ms --\n",
      "[ 60.85545974  60.85545974  60.85545974  60.85545974  60.85545974\n",
      "  60.85545974  60.85545974  60.85545974  60.85545974  60.85545974]\n",
      "max r= 30.4277298711 , max m= 60.8554597422\n",
      "-- nsdf --\n"
     ]
    },
    {
     "data": {
      "image/png": "[encoded data removed]",
      "text/plain": [
       "<matplotlib.figure.Figure at 0x1f379b94588>"
      ]
     },
     "metadata": {},
     "output_type": "display_data"
    }
   ],
   "source": [
    "a=123 # factor to adjust overflow if necessary\n",
    "\n",
    "# overflow considering\n",
    "F=np.fft.fft(x)/N                  #scale to avoid overflow here\n",
    "ps=np.real(F*np.conjugate(F))*N*a  #multiply N to get better resolution\n",
    "ifftps=np.fft.ifft(ps)             #no scaling\n",
    "r=np.real(ifftps)\n",
    "x2=x*x*(a/N)                       #avoid overflow\n",
    "\n",
    "m=funcMsEx(x2,r[0])\n",
    "print(\"-- ms --\")\n",
    "print(m[0:10])\n",
    "\n",
    "#plt.plot(m)\n",
    "r=r[0:N2]\n",
    "print(\"max r=\", np.max(r), \", max m=\", np.max(m))\n",
    "nsdf=2*r/(m)                       #avoid overflow here\n",
    "print(\"-- nsdf --\")\n",
    "plt.plot(nsdf)\n",
    "plt.xlim([0,N2])\n",
    "plt.show()"
   ]
  },
  {
   "cell_type": "code",
   "execution_count": 20,
   "metadata": {
    "collapsed": false
   },
   "outputs": [
    {
     "name": "stdout",
     "output_type": "stream",
     "text": [
      "1\n",
      "2\n"
     ]
    }
   ],
   "source": [
    "for i in np.arange(1,3,1):\n",
    "    print(i)\n"
   ]
  },
  {
   "cell_type": "code",
   "execution_count": null,
   "metadata": {
    "collapsed": true
   },
   "outputs": [],
   "source": []
  }
 ],
 "metadata": {
  "kernelspec": {
   "display_name": "Python 3",
   "language": "python",
   "name": "python3"
  },
  "language_info": {
   "codemirror_mode": {
    "name": "ipython",
    "version": 3
   },
   "file_extension": ".py",
   "mimetype": "text/x-python",
   "name": "python",
   "nbconvert_exporter": "python",
   "pygments_lexer": "ipython3",
   "version": "3.5.1"
  }
 },
 "nbformat": 4,
 "nbformat_minor": 0
}
