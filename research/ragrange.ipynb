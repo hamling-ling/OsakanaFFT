{
 "cells": [
  {
   "cell_type": "code",
   "execution_count": 20,
   "metadata": {
    "collapsed": true
   },
   "outputs": [],
   "source": [
    "import numpy as np\n",
    "import pandas as pd\n",
    "from matplotlib import pyplot as plt\n",
    "%matplotlib inline\n"
   ]
  },
  {
   "cell_type": "code",
   "execution_count": 46,
   "metadata": {
    "collapsed": true
   },
   "outputs": [],
   "source": [
    "def f(x, x0, x1, x2, y0, y1, y2):\n",
    "    y= y0 * (x-x1)*(x-x2)/((x0-x1)*(x0-x2))\n",
    "    y+=y1 * (x-x2)*(x-x0)/((x1-x2)*(x1-x0))\n",
    "    y+=y2 * (x-x0)*(x-x1)/((x2-x0)*(x2-x1))\n",
    "    return y\n",
    "\n",
    "def f2(x, x0, x1, x2, y0, y1, y2):\n",
    "    A0=y0/((x0-x1)*(x0-x2))\n",
    "    A1=y1/((x1-x2)*(x1-x0))\n",
    "    A2=y2/((x2-x0)*(x2-x1))\n",
    "    B0=-A0*(x1+x2)\n",
    "    B1=-A1*(x2+x0)\n",
    "    B2=-A2*(x0+x1)\n",
    "    C0=A0*x1*x2\n",
    "    C1=A1*x2*x0\n",
    "    C2=A2*x0*x1\n",
    "    A=A0+A1+A2\n",
    "    B=B0+B1+B2\n",
    "    C=C0+C1+C2\n",
    "    y= A*(x**2)+B*x+C\n",
    "    return y\n",
    "def peak(y0, y1, y2):\n",
    "    x=(y0-y2)/(2*(y0+y2)-4*y1)\n",
    "    return x\n"
   ]
  },
  {
   "cell_type": "code",
   "execution_count": 47,
   "metadata": {
    "collapsed": false
   },
   "outputs": [
    {
     "name": "stdout",
     "output_type": "stream",
     "text": [
      "0.27777777777778123\n"
     ]
    },
    {
     "data": {
      "text/plain": [
       "[<matplotlib.lines.Line2D at 0x2940665ff60>]"
      ]
     },
     "execution_count": 47,
     "metadata": {},
     "output_type": "execute_result"
    },
    {
     "data": {
      "image/png": "[encoded data removed]",
      "text/plain": [
       "<matplotlib.figure.Figure at 0x294066293c8>"
      ]
     },
     "metadata": {},
     "output_type": "display_data"
    }
   ],
   "source": [
    "x0=-1\n",
    "x1=0\n",
    "x2=1\n",
    "y0=0.719\n",
    "y1=0.726\n",
    "y2=0.724\n",
    "xs=1-np.arange(20)*0.1\n",
    "ys=f2(xs,x0,x1,x2,y0,y1,y2)\n",
    "#print(f2(1,x0,x1,x2,y0,y1,y2))\n",
    "x_pk=peak(y0,y1,y2)\n",
    "print(x_pk)\n",
    "#plt.plot(xs,ys)\n",
    "#plt.plot(np.array([x_pk, x_pk]),np.array([-1,1]))\n",
    "#plt.show()\n"
   ]
  },
  {
   "cell_type": "code",
   "execution_count": 67,
   "metadata": {
    "collapsed": false
   },
   "outputs": [
    {
     "name": "stdout",
     "output_type": "stream",
     "text": [
      "[  255.   527.   582.   800.   891.  1073.  1618.]\n",
      "[  76.   89.   92.  107.  114.  133.  267.]\n"
     ]
    }
   ],
   "source": [
    "def vol(E):\n",
    "    return 200*((E+1)/1.1-1)\n",
    "def current(E):\n",
    "    return 800/(12-E)\n",
    "\n",
    "vols=np.array([1.5,3.0,3.3,4.5,5,6,9])\n",
    "rs=vol(vols)\n",
    "print(np.round(rs))\n",
    "ic=current(vols)\n",
    "print(np.round(ic))"
   ]
  },
  {
   "cell_type": "code",
   "execution_count": 69,
   "metadata": {
    "collapsed": false
   },
   "outputs": [
    {
     "data": {
      "text/plain": [
       "100.0"
      ]
     },
     "execution_count": 69,
     "metadata": {},
     "output_type": "execute_result"
    }
   ],
   "source": [
    "1/(1/200+1/200)"
   ]
  },
  {
   "cell_type": "code",
   "execution_count": null,
   "metadata": {
    "collapsed": true
   },
   "outputs": [],
   "source": []
  }
 ],
 "metadata": {
  "kernelspec": {
   "display_name": "Python 3",
   "language": "python",
   "name": "python3"
  },
  "language_info": {
   "codemirror_mode": {
    "name": "ipython",
    "version": 3
   },
   "file_extension": ".py",
   "mimetype": "text/x-python",
   "name": "python",
   "nbconvert_exporter": "python",
   "pygments_lexer": "ipython3",
   "version": "3.5.1"
  }
 },
 "nbformat": 4,
 "nbformat_minor": 0
}
