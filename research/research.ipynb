{
 "cells": [
  {
   "cell_type": "code",
   "execution_count": 2,
   "metadata": {
    "collapsed": false,
    "scrolled": true
   },
   "outputs": [],
   "source": [
    "import numpy as np\n",
    "import pandas as pd\n",
    "from matplotlib import pyplot as plt\n",
    "%matplotlib inline"
   ]
  },
  {
   "cell_type": "code",
   "execution_count": 3,
   "metadata": {
    "collapsed": false,
    "scrolled": true
   },
   "outputs": [
    {
     "data": {
      "text/plain": [
       "array([  1.22464685e-16 +0.00000000e+00j,\n",
       "        -8.99620802e-16 -3.99999997e+00j,\n",
       "         1.22464685e-16 -0.00000000e+00j,\n",
       "         6.54691432e-16 +3.44687616e-08j,   1.22464685e-16 +0.00000000e+00j])"
      ]
     },
     "execution_count": 3,
     "metadata": {},
     "output_type": "execute_result"
    }
   ],
   "source": [
    "x=[0.000000000, 0.707106769, 1.00000000, 0.707106769, 1.22464685e-16, -0.707106769, -1.00000000, -0.707106769]\n",
    "np.fft.rfft(x)"
   ]
  },
  {
   "cell_type": "code",
   "execution_count": 3,
   "metadata": {
    "collapsed": false
   },
   "outputs": [
    {
     "data": {
      "text/plain": [
       "(-0.92387953251128674-0.38268343236508989j)"
      ]
     },
     "execution_count": 3,
     "metadata": {},
     "output_type": "execute_result"
    }
   ],
   "source": [
    "def W(n,N):\n",
    "    return np.exp(np.complex(0,-2*np.pi*n/N))\n",
    "\n",
    "W(7,16)"
   ]
  },
  {
   "cell_type": "code",
   "execution_count": 12,
   "metadata": {
    "collapsed": false,
    "scrolled": true
   },
   "outputs": [
    {
     "name": "stdout",
     "output_type": "stream",
     "text": [
      "32\n",
      "[ 0.          0.0588708   0.1175374   0.17579628  0.23344536  0.29028468\n",
      "  0.34611706  0.40074883  0.4539905   0.50565737]\n",
      "[ 21.74060844+0.j          -2.67980253+5.30716309j  -0.99352090+2.44638233j\n",
      "  -0.70653765+1.58390698j  -0.60786648+1.15486539j  -0.56256653+0.89313627j\n",
      "  -0.53812176+0.71368347j  -0.52350215+0.5806841j   -0.51412664+0.47635444j\n",
      "  -0.50781656+0.39082314j]\n"
     ]
    }
   ],
   "source": [
    "N=32\n",
    "ns=np.arange(N)\n",
    "\n",
    "x=np.sin(0.3*ns * 2.0 * np.pi/N)\n",
    "#plt.plot(ns,y)\n",
    "#plt.show()\n",
    "F=np.fft.fft(x)\n",
    "#print(ns)\n",
    "#print(np.sin(1 * 2.0 * np.pi/N))\n",
    "print(len(F))\n",
    "print(x[0:10])\n",
    "print(F[0:10])\n",
    "#plt.plot(F*np.conjugate(F))"
   ]
  },
  {
   "cell_type": "code",
   "execution_count": null,
   "metadata": {
    "collapsed": true
   },
   "outputs": [],
   "source": []
  }
 ],
 "metadata": {
  "kernelspec": {
   "display_name": "Python 3",
   "language": "python",
   "name": "python3"
  },
  "language_info": {
   "codemirror_mode": {
    "name": "ipython",
    "version": 3
   },
   "file_extension": ".py",
   "mimetype": "text/x-python",
   "name": "python",
   "nbconvert_exporter": "python",
   "pygments_lexer": "ipython3",
   "version": "3.5.1"
  }
 },
 "nbformat": 4,
 "nbformat_minor": 0
}
