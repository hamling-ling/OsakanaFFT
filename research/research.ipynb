{
 "cells": [
  {
   "cell_type": "code",
   "execution_count": 1,
   "metadata": {
    "collapsed": false,
    "scrolled": true
   },
   "outputs": [],
   "source": [
    "import numpy as np\n",
    "import pandas as pd\n",
    "from matplotlib import pyplot as plt\n",
    "%matplotlib inline"
   ]
  },
  {
   "cell_type": "code",
   "execution_count": 3,
   "metadata": {
    "collapsed": false,
    "scrolled": true
   },
   "outputs": [
    {
     "data": {
      "text/plain": [
       "array([  1.22464685e-16 +0.00000000e+00j,\n",
       "        -8.99620802e-16 -3.99999997e+00j,\n",
       "         1.22464685e-16 -0.00000000e+00j,\n",
       "         6.54691432e-16 +3.44687616e-08j,   1.22464685e-16 +0.00000000e+00j])"
      ]
     },
     "execution_count": 3,
     "metadata": {},
     "output_type": "execute_result"
    }
   ],
   "source": [
    "x=[0.000000000, 0.707106769, 1.00000000, 0.707106769, 1.22464685e-16, -0.707106769, -1.00000000, -0.707106769]\n",
    "np.fft.rfft(x)"
   ]
  },
  {
   "cell_type": "code",
   "execution_count": 2,
   "metadata": {
    "collapsed": false
   },
   "outputs": [
    {
     "data": {
      "text/plain": [
       "(-0.92387953251128674-0.38268343236508989j)"
      ]
     },
     "execution_count": 2,
     "metadata": {},
     "output_type": "execute_result"
    }
   ],
   "source": [
    "def W(n,N):\n",
    "    return np.exp(np.complex(0,-2*np.pi*n/N))\n",
    "\n",
    "W(7,16)"
   ]
  },
  {
   "cell_type": "code",
   "execution_count": 5,
   "metadata": {
    "collapsed": false,
    "scrolled": false
   },
   "outputs": [
    {
     "name": "stdout",
     "output_type": "stream",
     "text": [
      "8\n",
      "[ 0.          0.38268343 -0.70710678  0.92387953 -1.          0.92387953\n",
      " -0.70710678  0.38268343]\n",
      "[ 0.19891237 +0.00000000e+00j  0.23463314 -1.11022302e-15j\n",
      "  0.41421356 -1.77635684e-15j  1.76536686 -2.33146835e-15j\n",
      " -5.02733949 +0.00000000e+00j  1.76536686 +1.11022302e-15j\n",
      "  0.41421356 +1.77635684e-15j  0.23463314 +2.33146835e-15j]\n",
      "[ 0.00000000 +0.00000000e+00j  0.38268343 -1.11022302e-16j\n",
      " -0.70710678 +0.00000000e+00j  0.92387953 -1.38777878e-16j\n",
      " -1.00000000 +0.00000000e+00j  0.92387953 +1.11022302e-16j\n",
      " -0.70710678 +0.00000000e+00j  0.38268343 +1.38777878e-16j]\n"
     ]
    }
   ],
   "source": [
    "N=8\n",
    "ns=np.arange(N)\n",
    "\n",
    "x=np.sin(3.5*ns * 2.0 * np.pi/N)\n",
    "#plt.plot(ns,x)\n",
    "#plt.show()\n",
    "F=np.fft.fft(x)\n",
    "f=np.fft.ifft(F)\n",
    "#print(ns)\n",
    "#print(np.sin(1 * 2.0 * np.pi/N))\n",
    "print(len(F))\n",
    "print(x[0:10])\n",
    "print(F[0:10])\n",
    "print(f[0:10])\n",
    "#plt.plot(F*np.conjugate(F))"
   ]
  },
  {
   "cell_type": "code",
   "execution_count": null,
   "metadata": {
    "collapsed": true
   },
   "outputs": [],
   "source": []
  },
  {
   "cell_type": "code",
   "execution_count": null,
   "metadata": {
    "collapsed": true
   },
   "outputs": [],
   "source": []
  }
 ],
 "metadata": {
  "kernelspec": {
   "display_name": "Python 3",
   "language": "python",
   "name": "python3"
  },
  "language_info": {
   "codemirror_mode": {
    "name": "ipython",
    "version": 3
   },
   "file_extension": ".py",
   "mimetype": "text/x-python",
   "name": "python",
   "nbconvert_exporter": "python",
   "pygments_lexer": "ipython3",
   "version": "3.5.1"
  }
 },
 "nbformat": 4,
 "nbformat_minor": 0
}
