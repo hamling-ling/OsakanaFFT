{
 "cells": [
  {
   "cell_type": "code",
   "execution_count": 1,
   "metadata": {
    "collapsed": false,
    "scrolled": true
   },
   "outputs": [],
   "source": [
    "import numpy as np\n",
    "import pandas as pd\n",
    "from matplotlib import pyplot as plt\n",
    "%matplotlib inline"
   ]
  },
  {
   "cell_type": "code",
   "execution_count": 3,
   "metadata": {
    "collapsed": false,
    "scrolled": true
   },
   "outputs": [
    {
     "data": {
      "text/plain": [
       "array([  1.22464685e-16 +0.00000000e+00j,\n",
       "        -8.99620802e-16 -3.99999997e+00j,\n",
       "         1.22464685e-16 -0.00000000e+00j,\n",
       "         6.54691432e-16 +3.44687616e-08j,   1.22464685e-16 +0.00000000e+00j])"
      ]
     },
     "execution_count": 3,
     "metadata": {},
     "output_type": "execute_result"
    }
   ],
   "source": [
    "x=[0.000000000, 0.707106769, 1.00000000, 0.707106769, 1.22464685e-16, -0.707106769, -1.00000000, -0.707106769]\n",
    "np.fft.rfft(x)"
   ]
  },
  {
   "cell_type": "code",
   "execution_count": 4,
   "metadata": {
    "collapsed": false
   },
   "outputs": [
    {
     "data": {
      "text/plain": [
       "(-0.92387953251128674-0.38268343236508989j)"
      ]
     },
     "execution_count": 4,
     "metadata": {},
     "output_type": "execute_result"
    }
   ],
   "source": [
    "def W(n,N):\n",
    "    return np.exp(np.complex(0,-2*np.pi*n/N))\n",
    "\n",
    "W(7,16)"
   ]
  },
  {
   "cell_type": "code",
   "execution_count": 12,
   "metadata": {
    "collapsed": false,
    "scrolled": true
   },
   "outputs": [
    {
     "name": "stdout",
     "output_type": "stream",
     "text": [
      "[ 0.          0.01472568  0.02944817  0.04416428  0.0588708   0.07356456\n",
      "  0.08824237  0.10290104  0.1175374   0.13214826]\n",
      "[ 88.41311610 +0.j          -9.26847835+21.28705912j\n",
      "  -2.52320260 +9.9025832j   -1.37501773 +6.51181408j\n",
      "  -0.97997388 +4.85551915j  -0.79830060 +3.86948128j\n",
      "  -0.69992424 +3.21384392j  -0.64071244 +2.74562969j\n",
      "  -0.60232508 +2.39405217j  -0.57602728 +2.12001772j]\n"
     ]
    }
   ],
   "source": [
    "N=128\n",
    "ns=np.arange(N)\n",
    "\n",
    "y=np.sin(0.3*ns * 2.0 * np.pi/N)\n",
    "#plt.plot(ns,y)\n",
    "#plt.show()\n",
    "F=np.fft.fft(y)\n",
    "#print(ns)\n",
    "#print(np.sin(1 * 2.0 * np.pi/N))\n",
    "print(y[0:10])\n",
    "print(F[0:10])"
   ]
  },
  {
   "cell_type": "code",
   "execution_count": 16,
   "metadata": {
    "collapsed": false
   },
   "outputs": [
    {
     "data": {
      "text/plain": [
       "array([ 21.74060844+0.j        ,  -2.67980253+5.30716309j,\n",
       "        -0.99352090+2.44638233j,  -0.70653765+1.58390698j,\n",
       "        -0.60786648+1.15486539j,  -0.56256653+0.89313627j,\n",
       "        -0.53812176+0.71368347j,  -0.52350215+0.5806841j ,\n",
       "        -0.51412664+0.47635444j,  -0.50781656+0.39082314j])"
      ]
     },
     "execution_count": 16,
     "metadata": {},
     "output_type": "execute_result"
    }
   ],
   "source": [
    "F[0:10]"
   ]
  },
  {
   "cell_type": "code",
   "execution_count": null,
   "metadata": {
    "collapsed": true
   },
   "outputs": [],
   "source": []
  }
 ],
 "metadata": {
  "kernelspec": {
   "display_name": "Python 3",
   "language": "python",
   "name": "python3"
  },
  "language_info": {
   "codemirror_mode": {
    "name": "ipython",
    "version": 3
   },
   "file_extension": ".py",
   "mimetype": "text/x-python",
   "name": "python",
   "nbconvert_exporter": "python",
   "pygments_lexer": "ipython3",
   "version": "3.5.1"
  }
 },
 "nbformat": 4,
 "nbformat_minor": 0
}
