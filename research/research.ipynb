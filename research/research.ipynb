{
 "cells": [
  {
   "cell_type": "code",
   "execution_count": 2,
   "metadata": {
    "collapsed": false,
    "scrolled": true
   },
   "outputs": [],
   "source": [
    "import numpy as np\n",
    "import pandas as pd\n",
    "from matplotlib import pyplot as plt\n",
    "%matplotlib inline"
   ]
  },
  {
   "cell_type": "code",
   "execution_count": 3,
   "metadata": {
    "collapsed": false,
    "scrolled": true
   },
   "outputs": [
    {
     "data": {
      "text/plain": [
       "array([  1.22464685e-16 +0.00000000e+00j,\n",
       "        -8.99620802e-16 -3.99999997e+00j,\n",
       "         1.22464685e-16 -0.00000000e+00j,\n",
       "         6.54691432e-16 +3.44687616e-08j,   1.22464685e-16 +0.00000000e+00j])"
      ]
     },
     "execution_count": 3,
     "metadata": {},
     "output_type": "execute_result"
    }
   ],
   "source": [
    "x=[0.000000000, 0.707106769, 1.00000000, 0.707106769, 1.22464685e-16, -0.707106769, -1.00000000, -0.707106769]\n",
    "np.fft.rfft(x)"
   ]
  },
  {
   "cell_type": "code",
   "execution_count": 3,
   "metadata": {
    "collapsed": false
   },
   "outputs": [
    {
     "data": {
      "text/plain": [
       "(-0.92387953251128674-0.38268343236508989j)"
      ]
     },
     "execution_count": 3,
     "metadata": {},
     "output_type": "execute_result"
    }
   ],
   "source": [
    "def W(n,N):\n",
    "    return np.exp(np.complex(0,-2*np.pi*n/N))\n",
    "\n",
    "W(7,16)"
   ]
  },
  {
   "cell_type": "code",
   "execution_count": 24,
   "metadata": {
    "collapsed": false,
    "scrolled": true
   },
   "outputs": [
    {
     "name": "stdout",
     "output_type": "stream",
     "text": [
      "128\n",
      "[ 0.          0.17096189  0.33688985  0.49289819  0.63439328  0.75720885\n",
      "  0.85772861  0.9329928   0.98078528  0.99969882]\n",
      "[ 0.09072187 +0.00000000e+00j  0.09880590 -1.02782366e-16j\n",
      "  0.13481663 -7.48099499e-17j  0.34257120 -5.36029554e-16j\n",
      " -0.29731348 +3.23525928e-16j -0.08760368 +2.04518033e-16j\n",
      " -0.04713362 +1.23599048e-16j -0.03054037 +1.55257751e-16j\n",
      " -0.02175376 +7.17741838e-17j -0.01643089 +5.94142791e-17j]\n",
      "[ -8.67361738e-19 +0.00000000e+00j   1.33563976e-03 +7.89434707e-19j\n",
      "   2.63195198e-03 -1.49077799e-19j   3.85076713e-03 +8.43644815e-19j\n",
      "   4.95619753e-03 +1.84314369e-18j   5.91569411e-03 +3.90095026e-18j\n",
      "   6.70100477e-03 +2.03287907e-19j   7.28900624e-03 +2.13113490e-18j\n",
      "   7.66238500e-03 -1.08420217e-18j   7.81014702e-03 -1.18584613e-19j]\n"
     ]
    },
    {
     "data": {
      "image/png": "[encoded data removed]",
      "text/plain": [
       "<matplotlib.figure.Figure at 0x228bcc2ee10>"
      ]
     },
     "metadata": {},
     "output_type": "display_data"
    }
   ],
   "source": [
    "N=128\n",
    "ns=np.arange(N)\n",
    "\n",
    "x=np.sin(3.5*ns * 2.0 * np.pi/N)\n",
    "plt.plot(ns,x)\n",
    "#plt.show()\n",
    "F=np.fft.fft(x)\n",
    "f=np.fft.ifft(F)\n",
    "#print(ns)\n",
    "#print(np.sin(1 * 2.0 * np.pi/N))\n",
    "print(len(F))\n",
    "print(x[0:10])\n",
    "print(F[0:10]/N)\n",
    "print(f[0:10]/N)\n",
    "#plt.plot(F*np.conjugate(F))"
   ]
  },
  {
   "cell_type": "code",
   "execution_count": null,
   "metadata": {
    "collapsed": true
   },
   "outputs": [],
   "source": []
  },
  {
   "cell_type": "code",
   "execution_count": null,
   "metadata": {
    "collapsed": true
   },
   "outputs": [],
   "source": []
  }
 ],
 "metadata": {
  "kernelspec": {
   "display_name": "Python 3",
   "language": "python",
   "name": "python3"
  },
  "language_info": {
   "codemirror_mode": {
    "name": "ipython",
    "version": 3
   },
   "file_extension": ".py",
   "mimetype": "text/x-python",
   "name": "python",
   "nbconvert_exporter": "python",
   "pygments_lexer": "ipython3",
   "version": "3.5.1"
  }
 },
 "nbformat": 4,
 "nbformat_minor": 0
}
