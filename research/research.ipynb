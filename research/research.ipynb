{
 "cells": [
  {
   "cell_type": "code",
   "execution_count": 2,
   "metadata": {
    "collapsed": false,
    "scrolled": true
   },
   "outputs": [],
   "source": [
    "import numpy as np\n",
    "import pandas as pd\n",
    "from matplotlib import pyplot as plt\n",
    "%matplotlib inline"
   ]
  },
  {
   "cell_type": "code",
   "execution_count": 3,
   "metadata": {
    "collapsed": false,
    "scrolled": true
   },
   "outputs": [
    {
     "data": {
      "text/plain": [
       "array([  1.22464685e-16 +0.00000000e+00j,\n",
       "        -8.99620802e-16 -3.99999997e+00j,\n",
       "         1.22464685e-16 -0.00000000e+00j,\n",
       "         6.54691432e-16 +3.44687616e-08j,   1.22464685e-16 +0.00000000e+00j])"
      ]
     },
     "execution_count": 3,
     "metadata": {},
     "output_type": "execute_result"
    }
   ],
   "source": [
    "x=[0.000000000, 0.707106769, 1.00000000, 0.707106769, 1.22464685e-16, -0.707106769, -1.00000000, -0.707106769]\n",
    "np.fft.rfft(x)"
   ]
  },
  {
   "cell_type": "code",
   "execution_count": 4,
   "metadata": {
    "collapsed": false
   },
   "outputs": [
    {
     "data": {
      "text/plain": [
       "(-0.92387953251128674-0.38268343236508989j)"
      ]
     },
     "execution_count": 4,
     "metadata": {},
     "output_type": "execute_result"
    }
   ],
   "source": [
    "def W(n,N):\n",
    "    return np.exp(np.complex(0,-2*np.pi*n/N))\n",
    "\n",
    "W(7,16)"
   ]
  },
  {
   "cell_type": "code",
   "execution_count": 17,
   "metadata": {
    "collapsed": false,
    "scrolled": true
   },
   "outputs": [
    {
     "name": "stdout",
     "output_type": "stream",
     "text": [
      "129\n",
      "[  0.00000000e+00   2.87618799e-05   5.75222004e-05   8.62794024e-05\n",
      "   1.15031927e-04   1.43778215e-04   1.72516708e-04   2.01245847e-04\n",
      "   2.29964077e-04   2.58669839e-04]\n",
      "[ 177.30417008 +0.j          -18.05901845+42.57995423j\n",
      "   -4.56846587+19.81684012j   -2.27209432+13.04114314j\n",
      "   -1.48200408 +9.73439982j   -1.11865423 +7.76817768j\n",
      "   -0.92189750 +6.46276538j   -0.80346913 +5.53220999j\n",
      "   -0.72668891 +4.83494042j   -0.67408704 +4.29277125j]\n"
     ]
    },
    {
     "name": "stderr",
     "output_type": "stream",
     "text": [
      "C:\\Users\\nobuh\\Anaconda3\\lib\\site-packages\\numpy\\core\\numeric.py:474: ComplexWarning: Casting complex values to real discards the imaginary part\n",
      "  return array(a, dtype, copy=False, order=order)\n"
     ]
    },
    {
     "data": {
      "text/plain": [
       "[<matplotlib.lines.Line2D at 0x2d2f66fa860>]"
      ]
     },
     "execution_count": 17,
     "metadata": {},
     "output_type": "execute_result"
    },
    {
     "data": {
      "image/png": "[encoded data removed]",
      "text/plain": [
       "<matplotlib.figure.Figure at 0x2d2f66a1668>"
      ]
     },
     "metadata": {},
     "output_type": "display_data"
    }
   ],
   "source": [
    "N=256\n",
    "ns=np.arange(N)\n",
    "\n",
    "y=np.sin(0.3*ns * 2.0 * np.pi/N)\n",
    "#plt.plot(ns,y)\n",
    "#plt.show()\n",
    "F=np.fft.rfft(y)\n",
    "#print(ns)\n",
    "#print(np.sin(1 * 2.0 * np.pi/N))\n",
    "print(len(F))\n",
    "print(y[0:10]/N)\n",
    "print(F[0:10])\n",
    "plt.plot(F*np.conjugate(F))"
   ]
  },
  {
   "cell_type": "code",
   "execution_count": 16,
   "metadata": {
    "collapsed": false
   },
   "outputs": [
    {
     "data": {
      "text/plain": [
       "array([ 21.74060844+0.j        ,  -2.67980253+5.30716309j,\n",
       "        -0.99352090+2.44638233j,  -0.70653765+1.58390698j,\n",
       "        -0.60786648+1.15486539j,  -0.56256653+0.89313627j,\n",
       "        -0.53812176+0.71368347j,  -0.52350215+0.5806841j ,\n",
       "        -0.51412664+0.47635444j,  -0.50781656+0.39082314j])"
      ]
     },
     "execution_count": 16,
     "metadata": {},
     "output_type": "execute_result"
    }
   ],
   "source": [
    "F[0:10]"
   ]
  },
  {
   "cell_type": "code",
   "execution_count": null,
   "metadata": {
    "collapsed": true
   },
   "outputs": [],
   "source": []
  }
 ],
 "metadata": {
  "kernelspec": {
   "display_name": "Python 3",
   "language": "python",
   "name": "python3"
  },
  "language_info": {
   "codemirror_mode": {
    "name": "ipython",
    "version": 3
   },
   "file_extension": ".py",
   "mimetype": "text/x-python",
   "name": "python",
   "nbconvert_exporter": "python",
   "pygments_lexer": "ipython3",
   "version": "3.5.1"
  }
 },
 "nbformat": 4,
 "nbformat_minor": 0
}
