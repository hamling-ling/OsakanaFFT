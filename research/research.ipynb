{
 "cells": [
  {
   "cell_type": "code",
   "execution_count": 1,
   "metadata": {
    "collapsed": false,
    "scrolled": true
   },
   "outputs": [],
   "source": [
    "import numpy as np\n",
    "import pandas as pd\n",
    "from matplotlib import pyplot as plt\n",
    "%matplotlib inline"
   ]
  },
  {
   "cell_type": "code",
   "execution_count": 3,
   "metadata": {
    "collapsed": false,
    "scrolled": true
   },
   "outputs": [
    {
     "data": {
      "text/plain": [
       "array([  1.22464685e-16 +0.00000000e+00j,\n",
       "        -8.99620802e-16 -3.99999997e+00j,\n",
       "         1.22464685e-16 -0.00000000e+00j,\n",
       "         6.54691432e-16 +3.44687616e-08j,   1.22464685e-16 +0.00000000e+00j])"
      ]
     },
     "execution_count": 3,
     "metadata": {},
     "output_type": "execute_result"
    }
   ],
   "source": [
    "x=[0.000000000, 0.707106769, 1.00000000, 0.707106769, 1.22464685e-16, -0.707106769, -1.00000000, -0.707106769]\n",
    "np.fft.rfft(x)"
   ]
  },
  {
   "cell_type": "code",
   "execution_count": 2,
   "metadata": {
    "collapsed": false
   },
   "outputs": [
    {
     "data": {
      "text/plain": [
       "(-0.92387953251128674-0.38268343236508989j)"
      ]
     },
     "execution_count": 2,
     "metadata": {},
     "output_type": "execute_result"
    }
   ],
   "source": [
    "def W(n,N):\n",
    "    return np.exp(np.complex(0,-2*np.pi*n/N))\n",
    "\n",
    "W(7,16)"
   ]
  },
  {
   "cell_type": "code",
   "execution_count": 13,
   "metadata": {
    "collapsed": false,
    "scrolled": false
   },
   "outputs": [
    {
     "name": "stdout",
     "output_type": "stream",
     "text": [
      "16\n",
      "[ 0.          0.98078528  0.38268343 -0.83146961 -0.70710678  0.55557023\n",
      "  0.92387953 -0.19509032 -1.         -0.19509032]\n",
      "[ 0.07615647 +0.00000000e+00j  0.08411085 -1.28369537e-16j\n",
      "  0.11972092 -2.08166817e-16j  0.32676616 -4.96130914e-16j\n",
      " -0.31420872 +1.24900090e-16j -0.10609530 +1.28369537e-16j\n",
      " -0.06794422 +1.66533454e-16j -0.05478171 +2.60208521e-16j\n",
      " -0.05129242 +0.00000000e+00j -0.05478171 -4.51028104e-17j]\n",
      "[ 0.00000000 +0.00000000e+00j  0.98078528 -1.11022302e-16j\n",
      "  0.38268343 -2.77555756e-17j -0.83146961 -5.55111512e-17j\n",
      " -0.70710678 +2.77555756e-17j  0.55557023 +5.55111512e-17j\n",
      "  0.92387953 -5.55111512e-17j -0.19509032 +0.00000000e+00j\n",
      " -1.00000000 +0.00000000e+00j -0.19509032 +1.11022302e-16j]\n"
     ]
    },
    {
     "data": {
      "image/png": "[encoded data removed]",
      "text/plain": [
       "<matplotlib.figure.Figure at 0x2ba156f9908>"
      ]
     },
     "metadata": {},
     "output_type": "display_data"
    }
   ],
   "source": [
    "N=16\n",
    "ns=np.arange(N)\n",
    "\n",
    "x=np.sin(3.5*ns * 2.0 * np.pi/N)\n",
    "plt.plot(ns,x)\n",
    "#plt.show()\n",
    "F=np.fft.fft(x)\n",
    "f=np.fft.ifft(F)\n",
    "#print(ns)\n",
    "#print(np.sin(1 * 2.0 * np.pi/N))\n",
    "print(len(F))\n",
    "print(x[0:10])\n",
    "print(F[0:10]/N)\n",
    "print(f[0:10])\n",
    "#plt.plot(F*np.conjugate(F))"
   ]
  },
  {
   "cell_type": "code",
   "execution_count": null,
   "metadata": {
    "collapsed": true
   },
   "outputs": [],
   "source": []
  },
  {
   "cell_type": "code",
   "execution_count": null,
   "metadata": {
    "collapsed": true
   },
   "outputs": [],
   "source": []
  }
 ],
 "metadata": {
  "kernelspec": {
   "display_name": "Python 3",
   "language": "python",
   "name": "python3"
  },
  "language_info": {
   "codemirror_mode": {
    "name": "ipython",
    "version": 3
   },
   "file_extension": ".py",
   "mimetype": "text/x-python",
   "name": "python",
   "nbconvert_exporter": "python",
   "pygments_lexer": "ipython3",
   "version": "3.5.1"
  }
 },
 "nbformat": 4,
 "nbformat_minor": 0
}
